{
 "cells": [
  {
   "cell_type": "code",
   "execution_count": 3,
   "id": "6557c66b-70f9-48b8-a2df-63c5604e62d1",
   "metadata": {},
   "outputs": [
    {
     "name": "stdout",
     "output_type": "stream",
     "text": [
      "Automatic pdb calling has been turned OFF\n"
     ]
    },
    {
     "data": {
      "text/plain": [
       "'/scratch/users/nbachand/Cascade/city_block_cfd'"
      ]
     },
     "metadata": {},
     "output_type": "display_data"
    },
    {
     "data": {
      "text/plain": [
       "'/oak/stanford/groups/gorle/nbachand/Cascade/city_block_cfd'"
      ]
     },
     "metadata": {},
     "output_type": "display_data"
    }
   ],
   "source": [
    "%load_ext autoreload\n",
    "%autoreload 2\n",
    "# %matplotlib widget\n",
    "%pdb off\n",
    "\n",
    "from pyCascade import probePost, physics, utils\n",
    "from pyCascade.probeReadWrite import read_probes_file_switch\n",
    "from matplotlib import pyplot as plt\n",
    "from matplotlib import cm, colors\n",
    "import numpy as np\n",
    "import scipy as sp\n",
    "import os\n",
    "from IPython.core.debugger import set_trace\n",
    "import pandas as pd\n",
    "import seaborn as sns\n",
    "from fnmatch import fnmatch\n",
    "from cycler import cycler\n",
    "import plotly.express as px\n",
    "import plotly\n",
    "\n",
    "plt.rcParams['figure.dpi'] = 140\n",
    "im_scaling = .75\n",
    "plt.rcParams['figure.figsize'] = [6.4 * im_scaling, 4.8 * im_scaling]\n",
    "\n",
    "category =  \"config2\"\n",
    "\n",
    "############ Universal ################\n",
    "scratch_home = os.getenv('SCRATCH') #need to set SCRATCH (even if there is no real SCRATCH) to the location where results are written\n",
    "scratch_dir = f'{scratch_home}/Cascade/city_block_cfd'\n",
    "home_dir = !pwd\n",
    "home_dir = home_dir[0]\n",
    "\n",
    "display(scratch_dir)\n",
    "display(home_dir)\n",
    "plt.close('all')"
   ]
  },
  {
   "cell_type": "code",
   "execution_count": 4,
   "id": "abdaf328",
   "metadata": {},
   "outputs": [],
   "source": [
    "run = 41\n",
    "probes_dir = f'{scratch_dir}/CHARLES/{category}/R{run}/probes/probesOut'\n",
    "oak_probes_dir =  f'{home_dir}/CHARLES/{category}/R{run}/probes/probesOut_parquet/'"
   ]
  },
  {
   "cell_type": "code",
   "execution_count": 5,
   "id": "78a164c2",
   "metadata": {},
   "outputs": [],
   "source": [
    "# del probes\n",
    "qoisOutputed = [\"comp(u,0)\",\"comp(u,1)\",\"comp(u,2)\",\"p\",\"T\"]\n",
    "\n",
    "# probes = probePost.Probes(probes_dir, directory_parquet = oak_probes_dir, probe_type = \"VOLUMETRIC_PROBES\", flux_quants = qoisOutputed)\n",
    "# probes.to_parquet(overwrite = True)\n",
    "\n",
    "probes = probePost.Probes(probes_dir, directory_parquet = oak_probes_dir, probe_type = \"VOLUMETRIC_PROBES\", flux_quants = qoisOutputed, file_type = \"parquet\")\n"
   ]
  },
  {
   "cell_type": "code",
   "execution_count": 6,
   "id": "6f2818e2",
   "metadata": {},
   "outputs": [
    {
     "data": {
      "image/png": "[encoded data removed]",
      "text/plain": [
       "<Figure size 672x504 with 1 Axes>"
      ]
     },
     "metadata": {},
     "output_type": "display_data"
    }
   ],
   "source": [
    "plt.figure()\n",
    "plt.plot(probes.probe_steps, probes.probe_times)\n",
    "plt.show()"
   ]
  },
  {
   "cell_type": "code",
   "execution_count": 7,
   "id": "09375fb9-8d1b-4432-a72c-4062281a84d4",
   "metadata": {},
   "outputs": [],
   "source": [
    "start = 0# 30000\n",
    "stop = -1\n",
    "by = 1"
   ]
  },
  {
   "cell_type": "code",
   "execution_count": 9,
   "id": "15a554fa",
   "metadata": {},
   "outputs": [],
   "source": [
    "# (fig, ax) = probes.time_plots(\n",
    "#     steps = probes.probe_steps[start:stop:by],\n",
    "#     quants = [ \"T\"],\n",
    "#     plot_params = {\n",
    "#         'stack span' : 'y',\n",
    "#         'ylabel': 'Normalized Ventilation Rate ($Q_{norm}$)',\n",
    "#         'xlabel' : 'time $[s]$',\n",
    "#         'horizontal spacing' : probes.probe_times,\n",
    "#         },\n",
    "#     )"
   ]
  },
  {
   "cell_type": "code",
   "execution_count": 32,
   "id": "52391978",
   "metadata": {},
   "outputs": [
    {
     "name": "stdout",
     "output_type": "stream",
     "text": [
      "processing data took 57 seconds\n",
      "processing data took 59 seconds\n"
     ]
    }
   ],
   "source": [
    "@utils.no_kwargs\n",
    "@utils.dict_apply\n",
    "def seriesToFloat(s):\n",
    "    return s.values[0]\n",
    "\n",
    "## mean statistics\n",
    "mean = probes.statistics(\n",
    "    steps = probes.probe_steps[start:stop:by],\n",
    "    processing = [probePost.time_average, seriesToFloat],\n",
    "    parrallel=False\n",
    "    )\n",
    "    \n",
    "## rms statistics\n",
    "rms = probes.statistics( \n",
    "    steps = probes.probe_steps[start:stop:by],\n",
    "    processing = [probePost.time_rms, seriesToFloat],\n",
    "    parrallel=False\n",
    "    )"
   ]
  }
 ],
 "metadata": {
  "kernelspec": {
   "display_name": "base",
   "language": "python",
   "name": "python3"
  },
  "language_info": {
   "codemirror_mode": {
    "name": "ipython",
    "version": 3
   },
   "file_extension": ".py",
   "mimetype": "text/x-python",
   "name": "python",
   "nbconvert_exporter": "python",
   "pygments_lexer": "ipython3",
   "version": "3.10.12"
  }
 },
 "nbformat": 4,
 "nbformat_minor": 5
}
