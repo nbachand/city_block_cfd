{
 "cells": [
  {
   "cell_type": "code",
<<<<<<< HEAD:.ipynb_checkpoints/probe_setup-checkpoint.ipynb
   "execution_count": 1,
=======
   "execution_count": 3,
>>>>>>> origin/HEAD:probe_setup.ipynb
   "metadata": {},
   "outputs": [],
   "source": [
    "from pyCascade import probeSetup\n",
    "\n",
    "# working_dir = pathlib.Path().absolute()\n",
<<<<<<< HEAD:.ipynb_checkpoints/probe_setup-checkpoint.ipynb
    "working_dir = '/scratch/users/nbachand/Cascade/city_block_cfd'\n"
=======
    "\n",
    "working_dir = '/home/nbachand/Documents/Cascade/city_block'\n"
>>>>>>> origin/HEAD:probe_setup.ipynb
   ]
  },
  {
   "cell_type": "code",
<<<<<<< HEAD:.ipynb_checkpoints/probe_setup-checkpoint.ipynb
   "execution_count": 4,
=======
   "execution_count": 5,
>>>>>>> origin/HEAD:probe_setup.ipynb
   "metadata": {},
   "outputs": [
    {
     "name": "stdout",
     "output_type": "stream",
     "text": [
      "done\n"
     ]
    }
   ],
   "source": [
    "\n",
    "tiles = {}\n",
    "x_spacings = [1,3,5]\n",
    "\n",
    "for i in range(len(x_spacings)):\n",
    "    x_dist = x_spacings[i]*80/6\n",
    "    tiles[i] = probeSetup.y_col(x_dist,80,[0,160],161)\n",
<<<<<<< HEAD:.ipynb_checkpoints/probe_setup-checkpoint.ipynb
    "    probeSetup.writeProbes(tiles[i], f\"{working_dir}/CHARLES/R1/probes/locations/x_{x_spacings[i]}over6.txt\")\n",
    "    \n",
    "print('done')"
=======
    "    probeSetup.writeProbes(tiles[i], f\"{working_dir}/CHARLES/city/R1/probes/locations/x_{x_spacings[i]}over6.txt\")"
>>>>>>> origin/HEAD:probe_setup.ipynb
   ]
  }
 ],
 "metadata": {
  "kernelspec": {
   "display_name": "Python 3 (ipykernel)",
   "language": "python",
   "name": "python3"
  },
  "language_info": {
   "codemirror_mode": {
    "name": "ipython",
    "version": 3
   },
   "file_extension": ".py",
   "mimetype": "text/x-python",
   "name": "python",
   "nbconvert_exporter": "python",
   "pygments_lexer": "ipython3",
   "version": "3.9.7"
  },
  "vscode": {
   "interpreter": {
    "hash": "66a7247a8b11cbf3e475d59d1e6607e9b0439794a6927feda4603dee40f2e244"
   }
  }
 },
 "nbformat": 4,
 "nbformat_minor": 2
}
