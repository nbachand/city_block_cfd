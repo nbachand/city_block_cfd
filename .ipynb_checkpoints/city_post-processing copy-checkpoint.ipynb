{
 "cells": [
  {
   "cell_type": "markdown",
   "metadata": {},
   "source": [
    "## Setup"
   ]
  },
  {
   "cell_type": "code",
   "execution_count": 1,
   "metadata": {},
   "outputs": [],
   "source": [
    "# %matplotlib widget\n",
    "\n",
    "from pyCascade_old import probePost, physics\n",
    "from matplotlib import pyplot as plt\n",
    "import numpy as np\n",
    "\n",
    "# scratch_dir = pathlib.Path().absolute()\n",
    "\n",
    "############ CLUSTER ################\n",
    "scratch_dir = '/scratch/users/nbachand/Cascade/city_block_cfd'\n",
    "home_dir = '/home/users/nbachand/Cascade/city_block_cfd'\n",
    "\n",
    "############ LOCAL ###################\n",
    "# home_dir = '/home/nbachand/Documents/Cascade/city_block'\n",
    "# scratch_dir = home_dir\n",
    "\n",
    "run = 1\n"
   ]
  },
  {
   "cell_type": "code",
   "execution_count": 2,
   "metadata": {},
   "outputs": [
    {
     "data": {
      "image/png": "[encoded data removed]",
      "text/plain": [
       "<Figure size 432x288 with 1 Axes>"
      ]
     },
     "metadata": {
      "needs_background": "light"
     },
     "output_type": "display_data"
    }
   ],
   "source": [
    "LES_params = {\n",
    "    'uStar': 0.1,\n",
    "    'z0': 0.61,\n",
    "    'disp': 11.1,\n",
    "    'vK_const': 0.4,\n",
    "    'Dt': .01,\n",
    "    'z_values' : np.linspace(0,160,1600)\n",
    "}\n",
    "physics_setup = physics.LES_Physics(LES_params)\n",
    "physics_setup.plot_log_wind()"
   ]
  },
  {
   "cell_type": "code",
   "execution_count": 3,
   "metadata": {},
   "outputs": [
    {
     "name": "stdout",
     "output_type": "stream",
     "text": [
      "U infinity is 1.374392815376186 with L = 160.0\n",
      "flat plate Reynolds number is 15041974.346891265\n",
      "wall spacing is 0.15187213520993692 for y+ of 500\n"
     ]
    }
   ],
   "source": [
    "physics_setup.calc_flatplate_quantities(\n",
    "    rho = 1.224,\n",
    "    mu = 1.7894e-5,\n",
    "    yPlus = 500\n",
    "    )\n",
    "\n",
    "\n"
   ]
  },
  {
   "cell_type": "code",
   "execution_count": 4,
   "metadata": {},
   "outputs": [
    {
     "ename": "IndexError",
     "evalue": "list index out of range",
     "output_type": "error",
     "traceback": [
      "\u001b[0;31m---------------------------------------------------------------------------\u001b[0m",
      "\u001b[0;31mIndexError\u001b[0m                                Traceback (most recent call last)",
      "\u001b[0;32m/tmp/ipykernel_12371/2160010319.py\u001b[0m in \u001b[0;36m<module>\u001b[0;34m\u001b[0m\n\u001b[0;32m----> 1\u001b[0;31m \u001b[0mprobes\u001b[0m \u001b[0;34m=\u001b[0m \u001b[0mprobePost\u001b[0m\u001b[0;34m.\u001b[0m\u001b[0mProbes\u001b[0m\u001b[0;34m(\u001b[0m\u001b[0;34mf'{scratch_dir}/CHARLES/R{run}/probes/probesOut'\u001b[0m\u001b[0;34m)\u001b[0m\u001b[0;34m\u001b[0m\u001b[0;34m\u001b[0m\u001b[0m\n\u001b[0m\u001b[1;32m      2\u001b[0m \u001b[0mprobes\u001b[0m\u001b[0;34m.\u001b[0m\u001b[0mget_locations\u001b[0m\u001b[0;34m(\u001b[0m\u001b[0;34mf'{scratch_dir}/CHARLES/R{run}/probes/locations'\u001b[0m\u001b[0;34m)\u001b[0m\u001b[0;34m\u001b[0m\u001b[0;34m\u001b[0m\u001b[0m\n",
      "\u001b[0;32m/home/groups/gorle/codes/miniconda3/envs/cascade_env/lib/python3.9/site-packages/pyCascade/probePost.py\u001b[0m in \u001b[0;36m__init__\u001b[0;34m(self, directory)\u001b[0m\n\u001b[1;32m     82\u001b[0m         \u001b[0;31m# assume the quants and stack is the same for all probes\u001b[0m\u001b[0;34m\u001b[0m\u001b[0;34m\u001b[0m\u001b[0m\n\u001b[1;32m     83\u001b[0m         representative_dict = my_dict[(\n\u001b[0;32m---> 84\u001b[0;31m             self.probe_names[0], self.probe_steps[0])]\n\u001b[0m\u001b[1;32m     85\u001b[0m         representative_dict_keys = list(\n\u001b[1;32m     86\u001b[0m             zip(*representative_dict.keys()))  # unzip list of tuples\n",
      "\u001b[0;31mIndexError\u001b[0m: list index out of range"
     ]
    }
   ],
   "source": [
    "probes = probePost.Probes(f'{scratch_dir}/CHARLES/R{run}/probes/probesOut')\n",
    "probes.get_locations(f'{scratch_dir}/CHARLES/R{run}/probes/locations')"
   ]
  },
  {
   "cell_type": "code",
   "execution_count": null,
   "metadata": {},
   "outputs": [],
   "source": [
    "plot_params = {\n",
    "    'plot_levels' : {\n",
    "        # 'comp(u,0)' : np.linspace(0,.5,256),\n",
    "        # 'comp(u,2)' : np.linspace(-1,1,256)\n",
    "    },\n",
    "    'horizontal spacing' : physics_setup.LES_params['Dt'],\n",
    "    'stack span' : 'y',\n",
    "    'xlabel': 'time [s]',\n",
    "    'ylabel' : 'height [m]',\n",
    "    'ColorNorm': 'Centered'\n",
    "}\n",
    "\n",
    "# slice = probes.slice_into_df(slice_params)\n",
    "(fig, ax) = probes.contour_plots(\n",
    "#     names = ['x_1over6','x_3over6'], \n",
    "    steps = probes.probe_steps[-10000:],\n",
    "#     quants = ['comp(u,2)'],\n",
    "    parrallel = True,\n",
    "    plot_params = plot_params\n",
    "    )\n"
   ]
  },
  {
   "cell_type": "code",
   "execution_count": null,
   "metadata": {},
   "outputs": [],
   "source": [
    "# plt.savefig(f'{home_dir}/CHARLES/R{run}/plots/velocity_contour')"
   ]
  },
  {
   "cell_type": "code",
   "execution_count": null,
   "metadata": {},
   "outputs": [],
   "source": [
    "plot_params = {\n",
    "    'plot_levels' : {\n",
    "        'comp(u,0)' : np.linspace(0,.5,200),\n",
    "        'comp(u,1)' : np.linspace(0,4,200),\n",
    "        'comp(u,2)' : np.linspace(0,.5,200)\n",
    "    },\n",
    "    'horizontal spacing' : physics_setup.LES_params['Dt'],\n",
    "    'stack span' : 'y',\n",
    "    'xlabel': 'time [s]',\n",
    "    'ylabel' : 'height'\n",
    "}\n",
    "\n",
    "# slice = probes.slice_into_df(slice_params)\n",
    "(fig, ax) = probes.contour_plots(\n",
    "    # names = ['x_1over6','x_3over6'], \n",
    "#     steps = probes.probe_steps[-1000:-10],\n",
    "#     quants = ['comp(u,0)', 'comp(u,1)'],\n",
    "    parrallel = True,\n",
    "    processing = [probePost.mean_convergence],\n",
    "    plot_params = plot_params\n",
    "    )"
   ]
  },
  {
   "cell_type": "code",
   "execution_count": null,
   "metadata": {},
   "outputs": [],
   "source": [
    "probes.profile_plots(\n",
    "    # names = ['x_3over6'],\n",
    "    steps = probes.probe_steps[0],\n",
    "#     quants = ['comp(u,0)'],\n",
    "    plot_params = {\n",
    "        'stack span' : 'y',\n",
    "        'xlabel': 'velocity [1/s]',\n",
    "        'ylabel' : 'height'\n",
    "        },\n",
    "    parrallel=True\n",
    "    )"
   ]
  }
 ],
 "metadata": {
  "kernelspec": {
   "display_name": "Python 3 (ipykernel)",
   "language": "python",
   "name": "python3"
  },
  "language_info": {
   "codemirror_mode": {
    "name": "ipython",
    "version": 3
   },
   "file_extension": ".py",
   "mimetype": "text/x-python",
   "name": "python",
   "nbconvert_exporter": "python",
   "pygments_lexer": "ipython3",
   "version": "3.9.7"
  },
  "vscode": {
   "interpreter": {
    "hash": "66a7247a8b11cbf3e475d59d1e6607e9b0439794a6927feda4603dee40f2e244"
   }
  }
 },
 "nbformat": 4,
 "nbformat_minor": 2
}
