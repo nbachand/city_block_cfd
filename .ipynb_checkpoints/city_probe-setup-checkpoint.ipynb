{
 "cells": [
  {
   "cell_type": "code",
   "execution_count": 8,
   "metadata": {},
   "outputs": [],
   "source": [
    "from pyCascade import probeSetup\n",
    "\n",
    "working_dir = '/scratch/users/nbachand/Cascade/city_block_cfd'\n",
    "category =  \"city\"\n",
    "run = 1\n",
    "Lx = 160\n",
    "n_stack = int(Lx+1)\n",
    "Lx_interest = Lx/2\n",
    "\n"
   ]
  },
  {
   "cell_type": "code",
   "execution_count": 9,
   "metadata": {},
   "outputs": [
    {
     "name": "stdout",
     "output_type": "stream",
     "text": [
      "done\n"
     ]
    }
   ],
   "source": [
    "tiles = {}\n",
    "x_spacings = [1,3,5]\n",
    "\n",
    "for i in range(len(x_spacings)):\n",
    "    x_dist = x_spacings[i]*(Lx/2)/6\n",
    "    tiles[i] = probeSetup.y_col(x_dist,(Lx/2),[0,Lx],n_stack)\n",
    "    probeSetup.writeProbes(tiles[i], f\"{working_dir}/CHARLES/{category}/R{run}/probes/locations/x_{x_spacings[i]}over6.txt\")\n",
    "    \n",
    "print('done')"
   ]
  }
 ],
 "metadata": {
  "kernelspec": {
   "display_name": "Python 3 (ipykernel)",
   "language": "python",
   "name": "python3"
  },
  "language_info": {
   "codemirror_mode": {
    "name": "ipython",
    "version": 3
   },
   "file_extension": ".py",
   "mimetype": "text/x-python",
   "name": "python",
   "nbconvert_exporter": "python",
   "pygments_lexer": "ipython3",
   "version": "3.9.7"
  },
  "vscode": {
   "interpreter": {
    "hash": "e7370f93d1d0cde622a1f8e1c04877d8463912d04d973331ad4851f04de6915a"
   }
  }
 },
 "nbformat": 4,
 "nbformat_minor": 2
}
