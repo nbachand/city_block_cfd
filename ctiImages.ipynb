{
 "cells": [
  {
   "cell_type": "code",
   "execution_count": null,
   "metadata": {},
   "outputs": [],
   "source": [
    "from pyCascade.cti import lesCreateImage as lcm\n",
    "from pyCascade.cti import lesCreateMovie as vcm\n",
    "import os\n",
    "from matplotlib import pyplot as plt\n",
    "import cv2 as cv\n",
    "\n",
    "image_path = \"/oak/stanford/groups/gorle/nbachand/Cascade/city_block_cfd/CHARLES/config3/temp_images/R16_mean_u_y1p5.00240000.png\"\n",
    "output_dir = \"/oak/stanford/groups/gorle/nbachand/Cascade/city_block_cfd/CHARLES/config3/temp_images/python_images\"\n",
    "image_name = os.path.basename(image_path)\n",
    "\n",
    "varlist=['planar']\n",
    "cmaplist=['plasma']\n",
    "data_min=[0]\n",
    "data_max=[2]\n",
    "\n",
    "# Process the image\n",
    "image = vcm.process_image(image_path, varlist, cmaplist, data_min, data_max)\n",
    "\n",
    "# Example usage of the reusable function\n",
    "custom_output = os.path.join(output_dir, image_name)\n",
    "result = lcm.create_image_with_colorbar(\n",
    "    image, custom_output, cmaplist, data_min, data_max, \n",
    "    cbar_title=\"Velocity (m/s)\",\n",
    "    cbar_orient=\"vertical\"\n",
    ")\n",
    "\n",
    "# Display the result\n",
    "plt.figure(figsize=(12, 10))\n",
    "plt.imshow(cv.cvtColor(result, cv.COLOR_BGR2RGB))\n",
    "plt.axis('off')\n",
    "plt.title(\"Result from Reusable Function\")\n",
    "plt.show()"
   ]
  }
 ],
 "metadata": {
  "kernelspec": {
   "display_name": "pycascade",
   "language": "python",
   "name": "python3"
  },
  "language_info": {
   "codemirror_mode": {
    "name": "ipython",
    "version": 3
   },
   "file_extension": ".py",
   "mimetype": "text/x-python",
   "name": "python",
   "nbconvert_exporter": "python",
   "pygments_lexer": "ipython3",
   "version": "3.10.12"
  }
 },
 "nbformat": 4,
 "nbformat_minor": 2
}
