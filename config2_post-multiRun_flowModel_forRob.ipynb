{
 "cells": [
  {
   "cell_type": "markdown",
   "id": "74dfef64",
   "metadata": {},
   "source": [
    "# Setup"
   ]
  },
  {
   "cell_type": "code",
   "execution_count": null,
   "id": "9a34a490",
   "metadata": {},
   "outputs": [],
   "source": [
    "%load_ext autoreload\n",
    "%autoreload 2\n",
    "# %matplotlib widget\n",
    "%pdb off\n",
    "\n",
    "from matplotlib import pyplot as plt\n",
    "import numpy as np\n",
    "import pandas as pd\n",
    "import seaborn as sns\n",
    "import plotly\n",
    "from IPython.display import display, HTML\n",
    "import ast\n",
    "from scipy.optimize import minimize\n",
    "import seaborn as sns\n",
    "from functools import wraps\n",
    "\n",
    "plotly.offline.init_notebook_mode()\n",
    "display(HTML(\n",
    "    '<script type=\"text/javascript\" async src=\"https://cdnjs.cloudflare.com/ajax/libs/mathjax/2.7.1/MathJax.js?config=TeX-MML-AM_SVG\"></script>'\n",
    "))\n",
    "\n",
    "plt.rcParams['figure.dpi'] = 140\n",
    "im_scaling = .75\n",
    "plt.rcParams['figure.figsize'] = [6.4 * im_scaling, 4.8 * im_scaling]\n",
    "\n",
    "home_dir = \"./\"\n",
    "display(home_dir)\n",
    "plt.close('all')"
   ]
  },
  {
   "cell_type": "markdown",
   "id": "function",
   "metadata": {},
   "source": [
    "# Stuff Rob Should Not Need to Care About"
   ]
  },
  {
   "cell_type": "markdown",
   "id": "b1620743",
   "metadata": {},
   "source": [
    "## Read in results"
   ]
  },
  {
   "cell_type": "code",
   "execution_count": null,
   "id": "ed5260a2-c50c-46ab-8d54-d6d9c89d34b1",
   "metadata": {
    "tags": []
   },
   "outputs": [],
   "source": [
    "multiRun_dir = f\"{home_dir}/CHARLES/multiRuns/\"\n",
    "plotFolder = f\"{multiRun_dir}\""
   ]
  },
  {
   "cell_type": "code",
   "execution_count": null,
   "id": "dc6b41b0",
   "metadata": {},
   "outputs": [],
   "source": [
    "def evalStringAsList(s):\n",
    "    if isinstance(s, str) and s[0] == \"[\" and s[-1] == \"]\":\n",
    "        return ast.literal_eval(s)\n",
    "    else:\n",
    "        return s\n",
    "\n",
    "\n",
    "def dict_apply(func):\n",
    "    @wraps(func)\n",
    "    def wrapper(d):\n",
    "        if isinstance(d, dict):\n",
    "            return {k: func(v) for k, v in d.items()}\n",
    "        else:\n",
    "            return func(d)\n",
    "    return wrapper"
   ]
  },
  {
   "cell_type": "code",
   "execution_count": null,
   "id": "f7ea8976",
   "metadata": {},
   "outputs": [],
   "source": [
    "overWrite = False\n",
    "pcStatsMI = pd.read_csv(f\"{multiRun_dir}/pointCloudStatsNoIntMI.csv\", index_col=[0,1])\n",
    "flowStatsMI = pd.read_csv(f\"{multiRun_dir}/flowStatsMI.csv\", index_col=[0,1])\n",
    "roomVentilationMI = pd.read_csv(f\"{multiRun_dir}/roomVentilationMI.csv\", index_col=[0,1])\n",
    "flowStatsMI = flowStatsMI.map(evalStringAsList)\n",
    "roomVentilationMI = roomVentilationMI.map(evalStringAsList)\n",
    "flowStatsMI[\"pNoInt\"] = np.nan\n",
    "flowStatsMI.update(pcStatsMI)"
   ]
  },
  {
   "cell_type": "markdown",
   "id": "f886ee27",
   "metadata": {},
   "source": [
    "## Helper Utils"
   ]
  },
  {
   "cell_type": "code",
   "execution_count": null,
   "id": "cae45919",
   "metadata": {},
   "outputs": [],
   "source": [
    "g = 10\n",
    "beta = 0.0034\n",
    "rho = 1.225\n",
    "hm = 6\n",
    "window_dim = hm/2/4\n",
    "A = window_dim ** 2\n",
    "\n",
    "def getWindBuoyantP(rho, flowParams):\n",
    "    p_w = flowParams[\"p_w\"]\n",
    "    z = flowParams[\"z\"]\n",
    "    delT = flowParams[\"delT\"]\n",
    "    delrho = -rho * beta * delT\n",
    "    return (delrho * g * z) + p_w # delP is outdoor minus indoor, while p0/rho is indoor minus outdoor, driving positive flow into the room (oppiste textbook)\n",
    "\n",
    "def flowFromP(rho, C_d, A, delp):\n",
    "    delp=np.array(delp)\n",
    "    S = np.zeros_like(delp)\n",
    "    S[delp!=0] = abs(delp[delp!=0]) / delp[delp!=0]\n",
    "    return S * C_d * A * np.sqrt(2 * abs(delp) / rho)\n",
    "\n",
    "def CFromFlow(rho, q, A, delp):\n",
    "    delp=np.array(delp)\n",
    "    S = np.zeros_like(delp)\n",
    "    S[delp!=0] = abs(delp[delp!=0]) / delp[delp!=0]\n",
    "    C = q /  (S * A * np.sqrt(2 * abs(delp) / rho))\n",
    "    return C\n",
    "\n",
    "def flowField(p_0, rho, flowParams):\n",
    "    C_d = flowParams[\"C_d\"]\n",
    "    A = flowParams[\"A\"]\n",
    "    rooms = flowParams[\"rooms\"]\n",
    "    delP = -np.matmul(rooms, p_0) + getWindBuoyantP(rho, flowParams) \n",
    "    return flowFromP(rho, C_d, A, delP)\n",
    "\n",
    "def getC(p_0, rho, flowParams):\n",
    "    A = flowParams[\"A\"]\n",
    "    q = flowParams[\"q\"]\n",
    "    rooms = flowParams[\"rooms\"]\n",
    "    delP = -np.matmul(rooms, p_0) + getWindBuoyantP(rho, flowParams)\n",
    "    return CFromFlow(rho, q, A, delP)\n",
    "\n",
    "def qObjective(p_0, rho, flowParams):\n",
    "    qs = flowField(p_0, rho, flowParams)\n",
    "    rooms = flowParams[\"rooms\"]\n",
    "    qRooms = np.matmul(rooms.T, qs)\n",
    "    return np.sum(qRooms**2)\n",
    "\n",
    "def findOptimalP0(rho, flowParams):\n",
    "    bounds = np.array([np.min(getWindBuoyantP(rho, flowParams)), np.max(getWindBuoyantP(rho, flowParams))])\n",
    "    x0 = np.mean(bounds)\n",
    "    NRooms = flowParams[\"rooms\"].shape[1]\n",
    "    bounds = np.tile(bounds, (NRooms, 1))\n",
    "    x0 = np.tile(x0, NRooms)\n",
    "    return minimize(qObjective, x0=x0, bounds=bounds, args=(rho, flowParams))"
   ]
  },
  {
   "cell_type": "markdown",
   "id": "51a18ad1",
   "metadata": {},
   "source": [
    "## Primary Ventilation Calcs\n"
   ]
  },
  {
   "cell_type": "code",
   "execution_count": null,
   "id": "36ae3601",
   "metadata": {},
   "outputs": [],
   "source": [
    "\n",
    "def getC_ds_All(aCorner, aCross, aDual, aSingle, aSinA, aCosA,  aShear, aNormal, aWS, AofA = 180, shear=0, normal=0, WS=0, roomType=\"corner\"):\n",
    "    AofA *= np.pi / 180\n",
    "    C_d = aSinA * np.sin(AofA) + aCosA * np.cos(AofA) + aShear * shear + aNormal * normal + aWS * WS\n",
    "    if roomType == \"corner\":\n",
    "        return C_d + aCorner\n",
    "    if roomType == \"cross\":\n",
    "        return C_d + aCross\n",
    "    if roomType == \"dual\":\n",
    "        return C_d + aDual\n",
    "    if roomType == \"single\":\n",
    "        return C_d + aSingle\n",
    "\n",
    "def getC_ds(params, typeC_d=\"AofA\", AofA=0, shear=0, normal=0, openingType=\"xwindow\", roomType=\"corner\"):\n",
    "    if typeC_d == \"All\":\n",
    "        return getC_ds_All(*params, AofA=AofA, shear=shear, normal=normal, WS=1, roomType=roomType)\n",
    "    else:\n",
    "        raise Exception(f\"Unrecognized typeC_d {typeC_d}\")\n",
    "\n",
    "\n",
    "\n",
    "def update_flow_and_ventilation(flowStatsMI, roomVentilationMI, paramsC_d, useDoors=True, pTypes = {\"pNoInt\": \"pNoInt\"}, typeC_d=\"AofA\"):\n",
    "    flowStatsMI[\"cosAofA\"] = np.round(np.cos(flowStatsMI[\"AofA\"] * np.pi / 180), 2)\n",
    "    flowStatsMI[\"sinAofA\"] = np.round(np.sin(flowStatsMI[\"AofA\"] * np.pi / 180), 2)\n",
    "\n",
    "    for pType in pTypes:\n",
    "        roomVentilationMI[f\"{pType}-success\"] = False\n",
    "    for (run, room), row in roomVentilationMI.iterrows():\n",
    "        flowParams = {\n",
    "            \"C_d\": [],\n",
    "            \"A\": [],\n",
    "            \"z\": [],\n",
    "            \"delT\": [],\n",
    "            \"q\": [],\n",
    "            \"rooms\": [],\n",
    "        }\n",
    "        for pType in pTypes:\n",
    "            flowParams[pType] = []\n",
    "        for windowKey in row[\"windowKeys\"]:\n",
    "            for pType, pCol in pTypes.items():\n",
    "                flowParams[pType].append(flowStatsMI.loc[(run, windowKey), pCol])\n",
    "            C_d = getC_ds(\n",
    "                paramsC_d,\n",
    "                typeC_d = typeC_d,\n",
    "                AofA=flowStatsMI.loc[(run, windowKey),\"AofA\"], \n",
    "                shear=flowStatsMI.loc[(run, windowKey),\"EP_shear\"], \n",
    "                normal=flowStatsMI.loc[(run, windowKey),\"EP_normal\"],\n",
    "                openingType = flowStatsMI.loc[(run, windowKey),\"openingType\"],\n",
    "                roomType = row[\"roomType\"],\n",
    "                )\n",
    "            flowParams[\"C_d\"].append(C_d)\n",
    "            flowParams[\"A\"].append(A)\n",
    "            flowParams[\"z\"].append(flowStatsMI.loc[(run, windowKey), \"y\"])  # y is vertical in simulation\n",
    "            flowParams[\"delT\"].append(row[\"mean-T-room\"])\n",
    "            flowParams[\"q\"].append(flowStatsMI.loc[(run, windowKey), \"mean-mass_flux\"])\n",
    "            if \"dual\" in room and useDoors:\n",
    "                roomCord = windowKey.split(\"_\")[1]\n",
    "                if roomCord == \"0-1\":\n",
    "                    roomRow = [1, 0]\n",
    "                elif roomCord == \"1-1\":\n",
    "                    roomRow = [0, 1]\n",
    "                else:\n",
    "                    raise Exception(f\"Unrecognized room {roomCord} in dual room\")\n",
    "            else:\n",
    "                roomRow = [1]\n",
    "            flowParams[\"rooms\"].append(roomRow)\n",
    "\n",
    "        if \"dual\" in room and useDoors:\n",
    "            H = 3\n",
    "            for pType in pTypes:\n",
    "                flowParams[pType].append(0)\n",
    "            flowParams[\"C_d\"].append(1)\n",
    "            flowParams[\"A\"].append(A * 3)\n",
    "            flowParams[\"z\"].append(H / 2)\n",
    "            flowParams[\"delT\"].append(row[\"mean-T-room\"])\n",
    "            qRooms = np.matmul(np.array(flowParams[\"rooms\"]).T, np.array(flowParams[\"q\"]))\n",
    "            flowParams[\"q\"].append(np.diff(qRooms)[0])\n",
    "            flowParams[\"rooms\"].append([1, -1])\n",
    "\n",
    "        flowParams = dict_apply(np.array)(flowParams)\n",
    "\n",
    "        sinAofAs = []\n",
    "        cosAofAs = []\n",
    "        for i, windowKey in enumerate(row[\"windowKeys\"]):\n",
    "            sinAofAs.append(flowStatsMI.loc[(run, windowKey), \"sinAofA\"])\n",
    "            cosAofAs.append(flowStatsMI.loc[(run, windowKey), \"cosAofA\"])\n",
    "\n",
    "        roomVentilationMI.loc[(run, room), \"sinAofA\"] = np.mean(sinAofAs)\n",
    "        roomVentilationMI.loc[(run, room), \"cosAofA\"] = np.mean(cosAofAs)\n",
    "\n",
    "        for pType in pTypes:\n",
    "            NRooms = flowParams[\"rooms\"].shape[1]\n",
    "            flowParams[\"p_w\"] = flowParams[pType]\n",
    "            p0_meas = [row[\"mean-p-room\"] for i in range(NRooms)]\n",
    "            C_ds = getC(np.array(p0_meas), rho, flowParams)\n",
    "\n",
    "            for i, windowKey in enumerate(row[\"windowKeys\"]):\n",
    "                flowStatsMI.loc[(run, windowKey), f\"{pType}-C_d\"] = C_ds[i]\n",
    "\n",
    "            optResults = findOptimalP0(rho, flowParams)\n",
    "\n",
    "            p0 = optResults.x\n",
    "            roomVentilationMI.loc[(run, room), f\"{pType}-p0\"] = np.mean(p0)\n",
    "            roomVentilationMI.loc[(run, room), f\"{pType}-success\"] = optResults.success\n",
    "            qs = flowField(np.array(p0), rho, flowParams)\n",
    "\n",
    "            for i, windowKey in enumerate(row[\"windowKeys\"]):\n",
    "                flowStatsMI.loc[(run, windowKey), f\"{pType}-q_model\"] = qs[i]\n",
    "                flowStatsMI.loc[(run, windowKey), f\"{pType}-netq_model\"] = abs(qs[i])\n",
    "\n",
    "            if \"dual\" in room and useDoors:\n",
    "                qs = qs[0:-1]\n",
    "            roomVentilationMI.loc[(run, room), f\"{pType}-q_model\"] = np.sum(abs(np.array(qs))) / 2\n",
    "\n",
    "    return flowStatsMI, roomVentilationMI\n"
   ]
  },
  {
   "cell_type": "markdown",
   "id": "34ee555b",
   "metadata": {},
   "source": [
    "# For Rob\n"
   ]
  },
  {
   "cell_type": "markdown",
   "id": "82680f14",
   "metadata": {},
   "source": [
    "## The One True f(x)"
   ]
  },
  {
   "cell_type": "code",
   "execution_count": null,
   "id": "0dfe222c",
   "metadata": {},
   "outputs": [],
   "source": [
    "def fRob(x, theta):\n",
    "    \"\"\"\n",
    "    Simplified function for rob to demonstrate emulator\n",
    "    x: (flowStatsMI, roomVentilationMI})\n",
    "    theta: [aCorner, aCross, aDual, aSingle, aSinA, aCosA,  aShear, aNormal, aWS]\n",
    "            - These are the parameters corresponding to getC_ds_All (meaning all parameters are used). They are currently liner scaling but wouldn't have to be.\n",
    "    \"\"\"\n",
    "    flowStatsMI, roomVentilationMI = x\n",
    "    flowStatsMI, roomVentilationMI = update_flow_and_ventilation(flowStatsMI, roomVentilationMI, theta, typeC_d=\"All\")\n",
    "    y = (flowStatsMI, roomVentilationMI)\n",
    "    return y"
   ]
  },
  {
   "cell_type": "markdown",
   "id": "5649fcf7",
   "metadata": {},
   "source": [
    "### Calling f()"
   ]
  },
  {
   "cell_type": "code",
   "execution_count": null,
   "id": "eab9cd2a",
   "metadata": {},
   "outputs": [],
   "source": [
    "x = (flowStatsMI, roomVentilationMI)\n",
    "theta = [1, 1, 1, 1, 0, 0, 0, 0, 0]\n",
    "y = fRob(x, theta)\n",
    "flowStatsMI, roomVentilationMI = y"
   ]
  },
  {
   "cell_type": "markdown",
   "id": "599cd9c3",
   "metadata": {},
   "source": [
    "### Dropping Skylight Rooms with Poor Data"
   ]
  },
  {
   "cell_type": "code",
   "execution_count": null,
   "id": "cabfd763",
   "metadata": {},
   "outputs": [],
   "source": [
    "# drop rooms with skylights\n",
    "flowStatsMINoSL = flowStatsMI[flowStatsMI[\"AofA\"] % 1 == 0].copy()\n",
    "roomVentilationMINoSL = roomVentilationMI[roomVentilationMI[\"sinAofA\"].notna()].copy()"
   ]
  },
  {
   "cell_type": "markdown",
   "id": "f9439345",
   "metadata": {},
   "source": [
    "### Loss Function"
   ]
  },
  {
   "cell_type": "code",
   "execution_count": null,
   "id": "22a79f60",
   "metadata": {},
   "outputs": [],
   "source": [
    "def qRMSE(df):\n",
    "    return np.sqrt(np.mean((df[\"pNoInt-q_model\"] - df[\"mean-mass_flux\"])**2))\n",
    "\n",
    "display(f\"the RMSE for room ventilation is {qRMSE(roomVentilationMINoSL)}\")"
   ]
  },
  {
   "cell_type": "markdown",
   "id": "da548b5f",
   "metadata": {},
   "source": [
    "### Linear C_d fits and plot"
   ]
  },
  {
   "cell_type": "code",
   "execution_count": null,
   "id": "ae05e4a2",
   "metadata": {},
   "outputs": [],
   "source": [
    "dfFit = flowStatsMINoSL.dropna(subset=[\"pNoInt-q_model\"])\n",
    "# Reshape x into a 2D column vector\n",
    "x = dfFit[\"pNoInt-q_model\"].values.reshape(-1, 1)  # Ensure it's 2D\n",
    "y = dfFit[\"mean-mass_flux\"].values  # Keep y as 1D\n",
    "\n",
    "# Solve for the slope (forcing intercept = 0)\n",
    "CfitWindow, _, _, _ = np.linalg.lstsq(x, y, rcond=None)\n",
    "CfitWindow = CfitWindow[0]\n",
    "\n",
    "# Print the fitted coefficient\n",
    "print(\"Fitted Coefficient:\", CfitWindow)\n",
    "\n",
    "# Fit C for each room type separately\n",
    "room_types = dfFit['roomType'].unique()\n",
    "CfitRoomTypes = {}\n",
    "\n",
    "for room_type in room_types:\n",
    "    dfRoomType = dfFit[dfFit['roomType'] == room_type]\n",
    "    x = dfRoomType[\"pNoInt-q_model\"].values.reshape(-1, 1)  # Ensure it's 2D\n",
    "    y = dfRoomType[\"mean-mass_flux\"].values  # Keep y as 1D\n",
    "\n",
    "    # Solve for the slope (forcing intercept = 0)\n",
    "    Cfit, _, _, _ = np.linalg.lstsq(x, y, rcond=None)\n",
    "    CfitRoomTypes[room_type] = Cfit[0]\n",
    "\n",
    "# Print the fitted coefficients for each room type\n",
    "for room_type, Cfit in CfitRoomTypes.items():\n",
    "    print(f\"Fitted Coefficient for {room_type}: {Cfit}\")\n",
    "\n"
   ]
  },
  {
   "cell_type": "code",
   "execution_count": null,
   "id": "d055772a",
   "metadata": {},
   "outputs": [],
   "source": [
    "# Create the scatter plot\n",
    "plt.figure(figsize=(10, 6))\n",
    "sns.scatterplot(data=flowStatsMI, x='pNoInt-q_model', y=\"mean-mass_flux\", hue=\"roomType\", style=\"roomType\")\n",
    "\n",
    "# Overlay the lines from the fitted C values\n",
    "x_vals = np.linspace(flowStatsMI[\"mean-mass_flux\"].min(), flowStatsMI[\"mean-mass_flux\"].max(), 100)\n",
    "\n",
    "# Overall fitted line\n",
    "y_vals_overall = x_vals * CfitWindow\n",
    "plt.plot(x_vals, y_vals_overall, label='Overall Fit', color='black')\n",
    "\n",
    "# Fitted lines for each room type\n",
    "for room_type, Cfit in CfitRoomTypes.items():\n",
    "    y_vals_room = Cfit * x_vals\n",
    "    plt.plot(x_vals, y_vals_room, label=f'{room_type} Fit')\n",
    "\n",
    "plt.legend()\n",
    "plt.xlabel('Mean Mass Flux')\n",
    "plt.ylabel('pNoInt-q_model')\n",
    "plt.title('Scatter Plot with Fitted Lines')"
   ]
  }
 ],
 "metadata": {
  "kernelspec": {
   "display_name": "pycascade",
   "language": "python",
   "name": "python3"
  },
  "language_info": {
   "codemirror_mode": {
    "name": "ipython",
    "version": 3
   },
   "file_extension": ".py",
   "mimetype": "text/x-python",
   "name": "python",
   "nbconvert_exporter": "python",
   "pygments_lexer": "ipython3",
   "version": "3.10.13"
  }
 },
 "nbformat": 4,
 "nbformat_minor": 5
}
