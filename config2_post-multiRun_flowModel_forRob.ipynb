{
 "cells": [
  {
   "cell_type": "markdown",
   "id": "74dfef64",
   "metadata": {},
   "source": [
    "# Setup"
   ]
  },
  {
   "cell_type": "code",
   "execution_count": null,
   "id": "9a34a490",
   "metadata": {},
   "outputs": [],
   "source": [
    "%load_ext autoreload\n",
    "%autoreload 2\n",
    "# %matplotlib widget\n",
    "%pdb off\n",
    "\n",
    "from matplotlib import pyplot as plt\n",
    "import numpy as np\n",
    "import pandas as pd\n",
    "import seaborn as sns\n",
    "import plotly\n",
    "from IPython.display import display, HTML\n",
    "\n",
    "plotly.offline.init_notebook_mode()\n",
    "display(HTML(\n",
    "    '<script type=\"text/javascript\" async src=\"https://cdnjs.cloudflare.com/ajax/libs/mathjax/2.7.1/MathJax.js?config=TeX-MML-AM_SVG\"></script>'\n",
    "))\n",
    "\n",
    "plt.rcParams['figure.dpi'] = 140\n",
    "im_scaling = .75\n",
    "plt.rcParams['figure.figsize'] = [6.4 * im_scaling, 4.8 * im_scaling]\n",
    "\n",
    "home_dir = \"./\"\n",
    "display(home_dir)\n",
    "plt.close('all')"
   ]
  },
  {
   "cell_type": "code",
   "execution_count": null,
   "id": "268c3a57",
   "metadata": {},
   "outputs": [],
   "source": [
    "multiRun_dir = f\"{home_dir}/CHARLES/multiRuns/\"\n",
    "plotFolder = f\"{multiRun_dir}\"\n",
    "\n",
    "flowStatsMI = pd.read_csv(f\"{multiRun_dir}/flowStatsMI-model.csv\")\n",
    "roomVentilationMI = pd.read_csv(f\"{multiRun_dir}/roomVentilationMI-model.csv\")"
   ]
  },
  {
   "cell_type": "code",
   "execution_count": null,
   "id": "092c3306",
   "metadata": {},
   "outputs": [],
   "source": [
    "flowStatsMI[[col for col in flowStatsMI.columns if \"noInt\" in col]]"
   ]
  }
 ],
 "metadata": {
  "kernelspec": {
   "display_name": "pycascade",
   "language": "python",
   "name": "python3"
  },
  "language_info": {
   "codemirror_mode": {
    "name": "ipython",
    "version": 3
   },
   "file_extension": ".py",
   "mimetype": "text/x-python",
   "name": "python",
   "nbconvert_exporter": "python",
   "pygments_lexer": "ipython3",
   "version": "3.10.13"
  }
 },
 "nbformat": 4,
 "nbformat_minor": 5
}
