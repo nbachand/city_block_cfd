{
 "cells": [
  {
   "cell_type": "code",
   "execution_count": 3,
   "metadata": {},
   "outputs": [
    {
     "ename": "ModuleNotFoundError",
     "evalue": "No module named 'matplotlib'",
     "output_type": "error",
     "traceback": [
      "\u001b[0;31m---------------------------------------------------------------------------\u001b[0m",
      "\u001b[0;31mModuleNotFoundError\u001b[0m                       Traceback (most recent call last)",
      "Cell \u001b[0;32mIn [3], line 4\u001b[0m\n\u001b[1;32m      2\u001b[0m \u001b[38;5;28;01mfrom\u001b[39;00m \u001b[38;5;21;01msolid\u001b[39;00m \u001b[38;5;28;01mimport\u001b[39;00m \u001b[38;5;241m*\u001b[39m\n\u001b[1;32m      3\u001b[0m \u001b[38;5;28;01mimport\u001b[39;00m \u001b[38;5;21;01mnumpy\u001b[39;00m \u001b[38;5;28;01mas\u001b[39;00m \u001b[38;5;21;01mnp\u001b[39;00m\n\u001b[0;32m----> 4\u001b[0m \u001b[38;5;28;01mfrom\u001b[39;00m \u001b[38;5;21;01mmatplotlib\u001b[39;00m \u001b[38;5;28;01mimport\u001b[39;00m pyplot \u001b[38;5;28;01mas\u001b[39;00m plt\n\u001b[1;32m      6\u001b[0m wthick \u001b[38;5;241m=\u001b[39m \u001b[38;5;241m0.1\u001b[39m\n\u001b[1;32m      7\u001b[0m \u001b[38;5;66;03m# house = cube([30,10,20], False)\u001b[39;00m\n\u001b[1;32m      8\u001b[0m \u001b[38;5;66;03m# house = house - translate([wthick/2, wthick/2, wthick/2])(cube(10-wthick, False))\u001b[39;00m\n",
      "\u001b[0;31mModuleNotFoundError\u001b[0m: No module named 'matplotlib'"
     ]
    }
   ],
   "source": [
    "from pyCascade import geomCreate as gm\n",
    "from solid import *\n",
    "import numpy as np\n",
    "\n",
    "wthick = 0.1\n",
    "# house = cube([30,10,20], False)\n",
    "# house = house - translate([wthick/2, wthick/2, wthick/2])(cube(10-wthick, False))\n",
    "\n",
    "x = 10\n",
    "y = 10\n",
    "z = 10\n",
    "wthick = .01\n",
    "nx=3\n",
    "ny=1\n",
    "nz=2\n",
    "\n",
    "rooms, rooms_params = gm.makeRooms(x,y,z,wthick,nx,ny,nz)\n",
    "exterior = gm.ProbedGeom(cube((x*nx,y*ny,z*nz)))\n",
    "roof = gm.makeRoof((0, x*nx), (y*ny, y*(ny+1)), (0, z*nz))\n",
    "doors = gm.makeDoors(rooms_params, y*.25, y*.75, 10, 10)\n",
    "windows = gm.makeWindows(rooms_params, y*.25, y*.25, 10, 10)\n",
    "\n",
    "house = exterior+roof-rooms-doors-windows\n",
    "\n",
    "scad_render_to_file(house.geom, \"./city_block_geom/OpenSCAD/test/test.scad\")\n",
    "print(len(house.probes))\n"
   ]
  },
  {
   "cell_type": "code",
   "execution_count": 2,
   "metadata": {},
   "outputs": [
    {
     "data": {
      "text/plain": [
       "[1]"
      ]
     },
     "execution_count": 2,
     "metadata": {},
     "output_type": "execute_result"
    }
   ],
   "source": []
  },
  {
   "cell_type": "code",
   "execution_count": 1,
   "metadata": {},
   "outputs": [],
   "source": [
    "from pyCascade import probeSetup\n",
    "\n",
    "# working_dir = pathlib.Path().absolute()\n",
    "category =  \"single_family\"\n",
    "run = 2\n",
    "Lx = 480\n",
    "n_stack = int(Lx+1)\n",
    "Lx_interest = Lx/2\n"
   ]
  },
  {
   "cell_type": "code",
   "execution_count": 2,
   "metadata": {},
   "outputs": [],
   "source": [
    "# ############ CLUSTER ################\n",
    "# working_dir = '/scratch/users/nbachand/Cascade/city_block_cfd'\n",
    "\n",
    "########### LOCAL ###################\n",
    "working_dir = '/home/nbachand/Documents/Cascade/city_block'"
   ]
  },
  {
   "cell_type": "markdown",
   "metadata": {},
   "source": [
    "Vertical Profiles"
   ]
  },
  {
   "cell_type": "code",
   "execution_count": 3,
   "metadata": {},
   "outputs": [
    {
     "name": "stdout",
     "output_type": "stream",
     "text": [
      "done\n"
     ]
    }
   ],
   "source": [
    "tiles = {}\n",
    "x_spacings = [1,3,5]\n",
    "\n",
    "for i in range(len(x_spacings)):\n",
    "    x_dist = x_spacings[i]*(Lx/2)/6\n",
    "    tiles[i] = probeSetup.y_col(x_dist,(Lx/2),[0,Lx],n_stack)\n",
    "    probeSetup.writeProbes(tiles[i], f\"{working_dir}/CHARLES/{category}/R{run}/probes/locations/x_{x_spacings[i]}over6.txt\")\n",
    "    \n",
    "print('done')"
   ]
  },
  {
   "cell_type": "markdown",
   "metadata": {},
   "source": [
    "Window Probes"
   ]
  },
  {
   "cell_type": "code",
   "execution_count": null,
   "metadata": {},
   "outputs": [],
   "source": []
  }
 ],
 "metadata": {
  "kernelspec": {
   "display_name": "Python 3.7.13 ('pycascade')",
   "language": "python",
   "name": "python3"
  },
  "language_info": {
   "codemirror_mode": {
    "name": "ipython",
    "version": 3
   },
   "file_extension": ".py",
   "mimetype": "text/x-python",
   "name": "python",
   "nbconvert_exporter": "python",
   "pygments_lexer": "ipython3",
   "version": "3.9.7"
  },
  "vscode": {
   "interpreter": {
    "hash": "02212d52afab9ec9f9ab1f45e58d58b1a52bca46d26d2858a04a12c995562240"
   }
  }
 },
 "nbformat": 4,
 "nbformat_minor": 2
}
