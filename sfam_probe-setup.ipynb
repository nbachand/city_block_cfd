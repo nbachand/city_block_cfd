{
 "cells": [
  {
   "cell_type": "code",
   "execution_count": 1,
   "metadata": {},
   "outputs": [
    {
     "data": {
      "text/plain": [
       "'/scratch/users/nbachand/Cascade/city_block_cfd'"
      ]
     },
     "metadata": {},
     "output_type": "display_data"
    }
   ],
   "source": [
    "from pyCascade import geomCreate as gC\n",
    "from pyCascade import probeSetup\n",
    "from solid import *\n",
    "import numpy as np\n",
    "from matplotlib import pyplot as plt\n",
    "import pandas\n",
    "import os\n",
    "from stl import mesh\n",
    "from mpl_toolkits import mplot3d\n",
    "\n",
    "# scratch_dir = pathlib.Path().absolute()\n",
    "category =  \"single_family\"\n",
    "run = 16\n",
    "\n",
    "############ Universal ################\n",
    "scratch_home = os.getenv('SCRATCH') #need to set SCRATCH (even if there is no real SCRATCH) to the location where results are written\n",
    "scratch_dir = f'{scratch_home}/Cascade/city_block_cfd'\n",
    "\n",
    "display(scratch_dir)\n",
    "\n",
    "geom_write = False\n",
    "probe_write = True"
   ]
  },
  {
   "cell_type": "code",
   "execution_count": 2,
   "metadata": {},
   "outputs": [
    {
     "name": "stdout",
     "output_type": "stream",
     "text": [
      "[144, 144, 144]\n"
     ]
    }
   ],
   "source": [
    "x = 3\n",
    "y = 3\n",
    "z = 3\n",
    "wthick = .001*np.min([x,y,z])\n",
    "nx=3\n",
    "ny=1\n",
    "nz=2\n",
    "roof_height = y\n",
    "house_grid = [12,8]\n",
    "house_spacing = [4*y,6*y]\n",
    "interior_house = (6,4)\n",
    "odd_offset = [2*z, 0]\n",
    "\n",
    "house_dims = [nx*x, ny*y + roof_height, nz*z]\n",
    "house_seperation = [house_spacing[0]-house_dims[0], 0, house_spacing[1]-house_dims[2]]\n",
    "\n",
    "domain_size = [house_grid[d]*house_spacing[d] for d in [0,1]]\n",
    "domain_height = max(domain_size)\n",
    "domain_size.insert(1, domain_height)\n",
    "\n",
    "print(domain_size)\n"
   ]
  },
  {
   "cell_type": "markdown",
   "metadata": {},
   "source": [
    "Vertical Profiles"
   ]
  },
  {
   "cell_type": "code",
   "execution_count": 3,
   "metadata": {},
   "outputs": [],
   "source": [
    "Ly = domain_height\n",
    "n_stack_floor = int(Ly+1)\n",
    "n_stack_roof = int(Ly-(house_dims[1]))\n",
    "\n",
    "probe_cols = {  #house_coordinate: probeSetup.y_coly_col inputs\n",
    "    (9,2): (house_dims[0]/2, -house_seperation[2]/2, [0, Ly], n_stack_floor), # between z\n",
    "    (3,6): (-house_seperation[0]/2, house_dims[2]/2, [0, Ly], n_stack_floor), # between x\n",
    "    (3,2): (-house_seperation[0]/2, -house_seperation[0]/2, [0, Ly], n_stack_floor), # between x z\n",
    "    (9,6): (house_dims[0]/2, house_dims[2]/2, [house_dims[1], Ly], n_stack_roof) # roof\n",
    "}"
   ]
  },
  {
   "cell_type": "code",
   "execution_count": 4,
   "metadata": {},
   "outputs": [
    {
     "ename": "KeyError",
     "evalue": "'door_locations'",
     "output_type": "error",
     "traceback": [
      "\u001b[0;31m---------------------------------------------------------------------------\u001b[0m",
      "\u001b[0;31mKeyError\u001b[0m                                  Traceback (most recent call last)",
      "\u001b[0;32m/tmp/ipykernel_21958/4064731578.py\u001b[0m in \u001b[0;36m<module>\u001b[0;34m\u001b[0m\n\u001b[1;32m      2\u001b[0m \u001b[0mexterior\u001b[0m \u001b[0;34m=\u001b[0m \u001b[0mgC\u001b[0m\u001b[0;34m.\u001b[0m\u001b[0mProbedGeom\u001b[0m\u001b[0;34m(\u001b[0m\u001b[0mcube\u001b[0m\u001b[0;34m(\u001b[0m\u001b[0;34m[\u001b[0m\u001b[0mnx\u001b[0m\u001b[0;34m*\u001b[0m\u001b[0mx\u001b[0m\u001b[0;34m,\u001b[0m \u001b[0mny\u001b[0m\u001b[0;34m*\u001b[0m\u001b[0my\u001b[0m\u001b[0;34m,\u001b[0m \u001b[0mnz\u001b[0m\u001b[0;34m*\u001b[0m\u001b[0mz\u001b[0m\u001b[0;34m]\u001b[0m\u001b[0;34m)\u001b[0m\u001b[0;34m)\u001b[0m\u001b[0;34m\u001b[0m\u001b[0;34m\u001b[0m\u001b[0m\n\u001b[1;32m      3\u001b[0m \u001b[0mroof\u001b[0m \u001b[0;34m=\u001b[0m \u001b[0mgC\u001b[0m\u001b[0;34m.\u001b[0m\u001b[0mmakeRoof\u001b[0m\u001b[0;34m(\u001b[0m\u001b[0;34m(\u001b[0m\u001b[0;36m0\u001b[0m\u001b[0;34m,\u001b[0m \u001b[0mx\u001b[0m\u001b[0;34m*\u001b[0m\u001b[0mnx\u001b[0m\u001b[0;34m)\u001b[0m\u001b[0;34m,\u001b[0m \u001b[0;34m(\u001b[0m\u001b[0my\u001b[0m\u001b[0;34m*\u001b[0m\u001b[0mny\u001b[0m\u001b[0;34m,\u001b[0m \u001b[0mny\u001b[0m\u001b[0;34m*\u001b[0m\u001b[0my\u001b[0m \u001b[0;34m+\u001b[0m \u001b[0mroof_height\u001b[0m\u001b[0;34m)\u001b[0m\u001b[0;34m,\u001b[0m \u001b[0;34m(\u001b[0m\u001b[0;36m0\u001b[0m\u001b[0;34m,\u001b[0m \u001b[0mz\u001b[0m\u001b[0;34m*\u001b[0m\u001b[0mnz\u001b[0m\u001b[0;34m)\u001b[0m\u001b[0;34m)\u001b[0m\u001b[0;34m\u001b[0m\u001b[0;34m\u001b[0m\u001b[0m\n\u001b[0;32m----> 4\u001b[0;31m \u001b[0mdoors\u001b[0m \u001b[0;34m=\u001b[0m \u001b[0mgC\u001b[0m\u001b[0;34m.\u001b[0m\u001b[0mmakeDoors\u001b[0m\u001b[0;34m(\u001b[0m\u001b[0mrooms_params\u001b[0m\u001b[0;34m,\u001b[0m \u001b[0my\u001b[0m\u001b[0;34m*\u001b[0m\u001b[0;36m.25\u001b[0m\u001b[0;34m,\u001b[0m \u001b[0my\u001b[0m\u001b[0;34m*\u001b[0m\u001b[0;36m.75\u001b[0m\u001b[0;34m,\u001b[0m \u001b[0;36m10\u001b[0m\u001b[0;34m,\u001b[0m \u001b[0;36m10\u001b[0m\u001b[0;34m)\u001b[0m\u001b[0;34m\u001b[0m\u001b[0;34m\u001b[0m\u001b[0m\n\u001b[0m\u001b[1;32m      5\u001b[0m \u001b[0mwindows\u001b[0m \u001b[0;34m=\u001b[0m \u001b[0mgC\u001b[0m\u001b[0;34m.\u001b[0m\u001b[0mmakeWindows\u001b[0m\u001b[0;34m(\u001b[0m\u001b[0mrooms_params\u001b[0m\u001b[0;34m,\u001b[0m \u001b[0my\u001b[0m\u001b[0;34m*\u001b[0m\u001b[0;36m.25\u001b[0m\u001b[0;34m,\u001b[0m \u001b[0my\u001b[0m\u001b[0;34m*\u001b[0m\u001b[0;36m.25\u001b[0m\u001b[0;34m,\u001b[0m \u001b[0;36m10\u001b[0m\u001b[0;34m,\u001b[0m \u001b[0;36m10\u001b[0m\u001b[0;34m)\u001b[0m\u001b[0;34m\u001b[0m\u001b[0;34m\u001b[0m\u001b[0m\n\u001b[1;32m      6\u001b[0m \u001b[0;34m\u001b[0m\u001b[0m\n",
      "\u001b[0;32m~/Cascade/city_block_cfd/pyCascade/geomCreate.py\u001b[0m in \u001b[0;36mmakeDoors\u001b[0;34m(rooms_params, w, h, nprobes_w, nprobes_h)\u001b[0m\n\u001b[1;32m    157\u001b[0m     \u001b[0mz\u001b[0m \u001b[0;34m=\u001b[0m \u001b[0mrooms_params\u001b[0m\u001b[0;34m[\u001b[0m\u001b[0;34m'z'\u001b[0m\u001b[0;34m]\u001b[0m\u001b[0;34m\u001b[0m\u001b[0;34m\u001b[0m\u001b[0m\n\u001b[1;32m    158\u001b[0m     \u001b[0mwthick\u001b[0m \u001b[0;34m=\u001b[0m \u001b[0mrooms_params\u001b[0m\u001b[0;34m[\u001b[0m\u001b[0;34m'wthick'\u001b[0m\u001b[0;34m]\u001b[0m\u001b[0;34m\u001b[0m\u001b[0;34m\u001b[0m\u001b[0m\n\u001b[0;32m--> 159\u001b[0;31m     \u001b[0mdoor_locations\u001b[0m \u001b[0;34m=\u001b[0m  \u001b[0mrooms_params\u001b[0m\u001b[0;34m[\u001b[0m\u001b[0;34m'door_locations'\u001b[0m\u001b[0;34m]\u001b[0m\u001b[0;34m\u001b[0m\u001b[0;34m\u001b[0m\u001b[0m\n\u001b[0m\u001b[1;32m    160\u001b[0m \u001b[0;34m\u001b[0m\u001b[0m\n\u001b[1;32m    161\u001b[0m     \u001b[0mdoors_list\u001b[0m \u001b[0;34m=\u001b[0m \u001b[0;34m[\u001b[0m\u001b[0;34m]\u001b[0m\u001b[0;34m\u001b[0m\u001b[0;34m\u001b[0m\u001b[0m\n",
      "\u001b[0;31mKeyError\u001b[0m: 'door_locations'"
     ]
    }
   ],
   "source": [
    "rooms, rooms_params = gC.makeRooms(x,y,z,wthick,nx,ny,nz)\n",
    "exterior = gC.ProbedGeom(cube([nx*x, ny*y, nz*z]))\n",
    "roof = gC.makeRoof((0, x*nx), (y*ny, ny*y + roof_height), (0, z*nz))\n",
    "doors = gC.makeDoors(rooms_params, y*.25, y*.75, 10, 10)\n",
    "windows = gC.makeWindows(rooms_params, y*.25, y*.25, 10, 10)\n",
    "\n",
    "house_list = []\n",
    "house_coordinates = {}\n",
    "\n",
    "nxhouses = range(-(odd_offset[0]>0),house_grid[0] + (odd_offset[0]<0))\n",
    "nzhouses = range(-(odd_offset[1]>0),house_grid[1] + (odd_offset[1]<0))\n",
    "\n",
    "house_coordinate = {}\n",
    "\n",
    "for i in nxhouses:\n",
    "    for k in nzhouses:\n",
    "        if (i,k) == interior_house:\n",
    "            house = exterior+roof-rooms-doors-windows\n",
    "        else:\n",
    "            house = exterior+roof\n",
    "        if (i, k) in probe_cols:\n",
    "            house.probes += [{\n",
    "                \"name\": f\"col_{i}-{k}\",\n",
    "                \"tile\": probeSetup.y_col(*probe_cols[(i, k)])\n",
    "            }]\n",
    "        del_x = (house_spacing[0]-x*nx)/2 + odd_offset[0]*(k%2) + i*house_spacing[0]\n",
    "        del_z = (house_spacing[1]-z*nz)/2 + odd_offset[1]*(i%2) + k*house_spacing[1]\n",
    "        house_coordinate =  [del_x, 0, del_z]\n",
    "        house.translate(house_coordinate)\n",
    "        house_coordinates[(i,k)] =  house_coordinate\n",
    "        house_list.append(house)\n",
    "\n",
    "        house_coordinates[i, k] = [del_x, 0, del_z]\n",
    "\n",
    "houses = gC.sumProbedGeom(house_list)\n",
    "\n",
    "domain = gC.ProbedGeom(cube(domain_size))\n",
    "\n",
    "neighborhood = domain - houses\n",
    "\n",
    "geom_path = f\"{scratch_dir}/city_block_geom/OpenSCAD/{category}\"\n",
    "if geom_write: scad_render_to_file(neighborhood.geom, f\"{geom_path}/single_family_neighborhood.scad\")\n",
    "print(len(neighborhood.probes))\n"
   ]
  },
  {
   "cell_type": "code",
   "execution_count": null,
   "metadata": {},
   "outputs": [],
   "source": [
    "fig = plt.figure(dpi=400)\n",
    "ax = fig.add_subplot(projection='3d')\n",
    "\n",
    "n = 100\n",
    "\n",
    "# For each set of style and range settings, plot n random points in the box\n",
    "# defined by x in [23, 32], y in [0, 100], z in [zlow, zhigh].\n",
    "\n",
    "for p in neighborhood.probes:\n",
    "    if \"col\" not in p[\"name\"]:\n",
    "        ax.scatter(p[\"tile\"][:,0], p[\"tile\"][:,2], p[\"tile\"][:,1], marker='.')\n",
    "\n",
    "ax.set_xlabel('X Label')\n",
    "ax.set_ylabel('Z Label')\n",
    "ax.set_zlabel('Y Label')\n",
    "\n",
    "plt.show()\n",
    "\n",
    "if probe_write: neighborhood.write_probes(f\"{scratch_dir}/CHARLES/{category}/R{run}/probes/locations/\")"
   ]
  },
  {
   "cell_type": "code",
   "execution_count": null,
   "metadata": {},
   "outputs": [],
   "source": [
    "# for p in neighborhood.probes:\n",
    "#     name = p['name']\n",
    "#     print(f\"POINTCLOUD_PROBE NAME=probes/probesOut/{name} INTERVAL=1 PRECISION=FLOAT FORMAT=FLOAT GEOM=FILE probes/locations/{name}.txt   VARS=comp(u,0) comp(u,1) comp(u,2)\")"
   ]
  },
  {
   "cell_type": "code",
   "execution_count": null,
   "metadata": {},
   "outputs": [],
   "source": [
    "if geom_write: scad_render_to_file(houses.geom, f\"{geom_path}/houses.scad\")"
   ]
  },
  {
   "cell_type": "code",
   "execution_count": null,
   "metadata": {},
   "outputs": [],
   "source": [
    "figure = plt.figure(dpi = 600)\n",
    "ax = figure.add_subplot(projection='3d')\n",
    "\n",
    "# plot_vectors[...,1] = geom_stl.vectors[...,2]\n",
    "# plot_vectors[...,2] = geom_stl.vectors[...,1]\n",
    "\n",
    "# Load the STL files and add the vectors to the plot\n",
    "geom_stl = mesh.Mesh.from_file(f\"{geom_path}/houses.stl\")\n",
    "\n",
    "plot_vectors = geom_stl.vectors\n",
    "ax.add_collection3d(mplot3d.art3d.Poly3DCollection(plot_vectors))\n",
    "\n",
    "# Auto scale to the mesh size\n",
    "scale = geom_stl.points.flatten()\n",
    "ax.auto_scale_xyz(scale, scale, scale)\n",
    "\n",
    "for p in neighborhood.probes:\n",
    "    ax.scatter(p[\"tile\"][:,0], p[\"tile\"][:,1], p[\"tile\"][:,2], marker=\".\", s=(72./figure.dpi)**2)\n",
    "\n",
    "# Show the plot to the screen\n",
    "ax.set_xlabel('X Label')\n",
    "ax.set_ylabel('Y Label')\n",
    "ax.set_zlabel('Z Label')\n",
    "# ax.view_init(-45, 45)\n",
    "plt.show()\n",
    "\n",
    "# figure.savefig(f\"{geom_path}/houses\")"
   ]
  },
  {
   "cell_type": "code",
   "execution_count": null,
   "metadata": {},
   "outputs": [],
   "source": [
    "house_coordinates[(interior_house)]"
   ]
  },
  {
   "cell_type": "markdown",
   "metadata": {},
   "source": [
    "Window Probes"
   ]
  }
 ],
 "metadata": {
  "kernelspec": {
   "display_name": "Python 3 (ipykernel)",
   "language": "python",
   "name": "python3"
  },
  "language_info": {
   "codemirror_mode": {
    "name": "ipython",
    "version": 3
   },
   "file_extension": ".py",
   "mimetype": "text/x-python",
   "name": "python",
   "nbconvert_exporter": "python",
   "pygments_lexer": "ipython3",
   "version": "3.9.7"
  },
  "vscode": {
   "interpreter": {
    "hash": "5dc2b2b94b1158b6af3901a9e6679750eb5cf147475682c227b35169ceede5f6"
   }
  }
 },
 "nbformat": 4,
 "nbformat_minor": 4
}
