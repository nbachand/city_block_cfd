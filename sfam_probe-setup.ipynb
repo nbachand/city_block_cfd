{
 "cells": [
  {
   "cell_type": "code",
   "execution_count": 1,
   "metadata": {},
   "outputs": [],
   "source": [
    "from pyCascade import probeSetup\n",
    "\n",
    "# working_dir = pathlib.Path().absolute()\n",
    "working_dir = '/scratch/users/nbachand/Cascade/city_block_cfd'\n"
   ]
  },
  {
   "cell_type": "code",
   "execution_count": 4,
   "metadata": {},
   "outputs": [
    {
     "name": "stdout",
     "output_type": "stream",
     "text": [
      "done\n"
     ]
    }
   ],
   "source": [
    "\n",
    "tiles = {}\n",
    "x_spacings = [1,3,5]\n",
    "\n",
    "for i in range(len(x_spacings)):\n",
    "    x_dist = x_spacings[i]*80/6\n",
    "    tiles[i] = probeSetup.y_col(x_dist,80,[0,160],161)\n",
    "    probeSetup.writeProbes(tiles[i], f\"{working_dir}/CHARLES/R1/probes/locations/x_{x_spacings[i]}over6.txt\")\n",
    "    \n",
    "print('done')"
   ]
  }
 ],
 "metadata": {
  "kernelspec": {
   "display_name": "Python 2.7.5 64-bit",
   "language": "python",
   "name": "python3"
  },
  "language_info": {
   "codemirror_mode": {
    "name": "ipython",
    "version": 3
   },
   "file_extension": ".py",
   "mimetype": "text/x-python",
   "name": "python",
   "nbconvert_exporter": "python",
   "pygments_lexer": "ipython3",
   "version": "2.7.5"
  },
  "vscode": {
   "interpreter": {
    "hash": "e7370f93d1d0cde622a1f8e1c04877d8463912d04d973331ad4851f04de6915a"
   }
  }
 },
 "nbformat": 4,
 "nbformat_minor": 2
}
