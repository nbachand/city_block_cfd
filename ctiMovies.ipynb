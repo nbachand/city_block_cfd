{
 "cells": [
  {
   "cell_type": "code",
   "execution_count": null,
   "metadata": {},
   "outputs": [],
   "source": [
    "%load_ext autoreload\n",
    "%autoreload 2\n",
    "# %matplotlib widget\n",
    "%pdb off\n",
    "\n",
    "from pyCascade.cti import lesCreateImage as lcm\n",
    "from pyCascade.cti import lesCreateMovie as vcm\n",
    "import os\n",
    "from matplotlib import pyplot as plt\n",
    "import cv2 as cv\n",
    "import numpy as np\n",
    "\n",
    "############ Universal ################\n",
    "scratch_home = os.getenv('SCRATCH') #need to set SCRATCH (even if there is no real SCRATCH) to the location where results are written\n",
    "scratch_dir = f'{scratch_home}/Cascade/city_block_cfd'\n",
    "home_dir = !pwd\n",
    "home_dir = home_dir[0]\n",
    "\n",
    "display(scratch_dir)\n",
    "display(home_dir)"
   ]
  },
  {
   "cell_type": "code",
   "execution_count": null,
   "metadata": {},
   "outputs": [],
   "source": [
    "R = 33\n",
    "config = 3\n",
    "relRunFolder = f\"CHARLES/config{config}/R{R}\"\n",
    "\n",
    "params = vcm.get_default_params()\n",
    "\n",
    "params.update({\n",
    "    \"image_base\":\"u_y1p5\",\n",
    "    \"image_folder\":f\"{scratch_dir}/{relRunFolder}/Images\",\n",
    "    \"video_folder\":f\"{home_dir}/{relRunFolder}/Videos\",\n",
    "    \"video_suffix\":\"_pyVid\",\n",
    "    \"colormap\": \"magma\"\n",
    "})\n",
    "\n",
    "vcm.create_video(params)"
   ]
  }
 ],
 "metadata": {
  "kernelspec": {
   "display_name": "pycascade",
   "language": "python",
   "name": "python3"
  },
  "language_info": {
   "codemirror_mode": {
    "name": "ipython",
    "version": 3
   },
   "file_extension": ".py",
   "mimetype": "text/x-python",
   "name": "python",
   "nbconvert_exporter": "python",
   "pygments_lexer": "ipython3",
   "version": "3.10.12"
  }
 },
 "nbformat": 4,
 "nbformat_minor": 2
}
