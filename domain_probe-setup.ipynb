{
 "cells": [
  {
   "cell_type": "code",
   "execution_count": 10,
   "metadata": {},
   "outputs": [],
   "source": [
    "from pyCascade import probeSetup\n",
    "\n",
    "# working_dir = pathlib.Path().absolute()\n",
    "category =  \"domain\"\n",
    "run = 3\n",
    "Lx = 480\n",
    "n_stack = int(Lx+1)\n",
    "Lx_interest = Lx/2\n"
   ]
  },
  {
   "cell_type": "code",
   "execution_count": 11,
   "metadata": {},
   "outputs": [],
   "source": [
    "# ############ CLUSTER ################\n",
    "# working_dir = '/scratch/users/nbachand/Cascade/city_block_cfd'\n",
    "\n",
    "########### LOCAL ###################\n",
    "working_dir = '/home/nbachand/Documents/Cascade/city_block'"
   ]
  },
  {
   "cell_type": "code",
   "execution_count": 12,
   "metadata": {},
   "outputs": [
    {
     "name": "stdout",
     "output_type": "stream",
     "text": [
      "done\n"
     ]
    }
   ],
   "source": [
    "\n",
    "tiles = {}\n",
    "x_spacings = [3]\n",
    "\n",
    "for i in range(len(x_spacings)):\n",
    "    x_dist = x_spacings[i]*(Lx/2)/6\n",
    "    tiles[i] = probeSetup.y_col(x_dist,(Lx/2),[0,Lx],n_stack)\n",
    "    probeSetup.writeProbes(tiles[i], f\"{working_dir}/CHARLES/{category}/R{run}/probes/locations/x_{x_spacings[i]}over6.txt\")\n",
    "    \n",
    "print('done')"
   ]
  }
 ],
 "metadata": {
  "kernelspec": {
   "display_name": "Python 3.9.7 ('base')",
   "language": "python",
   "name": "python3"
  },
  "language_info": {
   "codemirror_mode": {
    "name": "ipython",
    "version": 3
   },
   "file_extension": ".py",
   "mimetype": "text/x-python",
   "name": "python",
   "nbconvert_exporter": "python",
   "pygments_lexer": "ipython3",
   "version": "3.9.7"
  },
  "vscode": {
   "interpreter": {
    "hash": "66a7247a8b11cbf3e475d59d1e6607e9b0439794a6927feda4603dee40f2e244"
   }
  }
 },
 "nbformat": 4,
 "nbformat_minor": 2
}
