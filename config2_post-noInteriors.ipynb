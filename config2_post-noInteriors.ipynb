{
 "cells": [
  {
   "cell_type": "code",
   "execution_count": null,
   "id": "6557c66b-70f9-48b8-a2df-63c5604e62d1",
   "metadata": {},
   "outputs": [],
   "source": [
    "%load_ext autoreload\n",
    "%autoreload 2\n",
    "%matplotlib widget\n",
    "%pdb off\n",
    "\n",
    "# import dask\n",
    "# from dask.distributed import Client, LocalCluster\n",
    "# cluster = LocalCluster()  # Launches a scheduler and workers locally\n",
    "# client = Client(cluster)  # Connect to distributed cluster and override default\n",
    "# dask.config.set(scheduler='threads')\n",
    "\n",
    "from pyCascade import probePost, physics, utils\n",
    "from matplotlib import pyplot as plt\n",
    "import numpy as np\n",
    "import os\n",
    "from IPython.core.debugger import set_trace\n",
    "import pandas as pd\n",
    "from filloutVentilationStats import *\n",
    "\n",
    "############ Universal ################\n",
    "scratch_home = os.getenv('SCRATCH') #need to set SCRATCH (even if there is no real SCRATCH) to the location where results are written\n",
    "scratch_dir = f'{scratch_home}/Cascade/city_block_cfd'\n",
    "home_dir = !pwd\n",
    "home_dir = home_dir[0]\n",
    "\n",
    "display(scratch_dir)\n",
    "display(home_dir)"
   ]
  },
  {
   "cell_type": "code",
   "execution_count": null,
   "id": "5dbe9bf4-d9e6-47ee-8763-e570ecc936d3",
   "metadata": {
    "tags": []
   },
   "outputs": [],
   "source": [
    "vK_const = .41\n",
    "hm = 6\n",
    "rho = 1.225\n",
    "mu = 1.7894e-5\n",
    "# Re_tau = 43300\n",
    "# Lz =  24*hm*4/3/3\n",
    "Lx = 348\n",
    "Lz = Lx / 3\n",
    "z_ref = 10 # really y_refj\n",
    "U_ref = 2\n",
    "\n",
    "z_0 = 0.061*hm #used for convention, but really y_0\n",
    "disp = 1.11*hm\n",
    "shear_vel = vK_const*U_ref/np.log(z_ref/z_0)\n",
    "\n",
    "plt.figure()\n",
    "LES_params = {\n",
    "    'uStar': shear_vel,\n",
    "    'z0': z_0,\n",
    "    'disp': disp,\n",
    "    'Dt': .01,\n",
    "    'z_values' : np.linspace(0,Lz,10000)\n",
    "}\n",
    "physics_setup = physics.LES_Physics(LES_params)\n",
    "physics_setup.plot_log_wind()\n",
    "\n",
    "physics_setup.plot_spinup_velocity()\n",
    "physics_setup.plot_spinup_velocity2()\n",
    "\n",
    "plt.legend()\n",
    "\n",
    "plt.show()"
   ]
  },
  {
   "cell_type": "code",
   "execution_count": null,
   "id": "3c05f6c3-3c1c-461d-a64d-cc46066f4856",
   "metadata": {},
   "outputs": [],
   "source": [
    "display(\n",
    "    physics_setup.LES_params['uStar'], \n",
    "    physics_setup.LES_params['z0'], \n",
    "    physics_setup.LES_params['disp'], \n",
    "    physics_setup.LES_params['u_bulk'],\n",
    "    physics_setup.LES_params['log_wind'][-1]\n",
    "    )"
   ]
  },
  {
   "cell_type": "code",
   "execution_count": null,
   "id": "ac2010fc-67f8-4967-a130-e7ba359b0ad8",
   "metadata": {},
   "outputs": [],
   "source": [
    "physics_setup.calc_flatplate_quantities(\n",
    "    rho = 1.224,\n",
    "    mu = 1.7894e-5,\n",
    "    yPlus = 500\n",
    "    )"
   ]
  },
  {
   "cell_type": "code",
   "execution_count": 5,
   "id": "77e2b451-d2dc-4876-9725-e57a3f3fb345",
   "metadata": {},
   "outputs": [],
   "source": [
    "window_dim = hm/2/4\n",
    "\n",
    "velocity_scaling = 1\n",
    "ventilation_scaling = velocity_scaling/(window_dim**2)\n"
   ]
  },
  {
   "cell_type": "code",
   "execution_count": 6,
   "id": "09375fb9-8d1b-4432-a72c-4062281a84d4",
   "metadata": {},
   "outputs": [],
   "source": [
    "# start = -25000#-250000\n",
    "stop = -1000\n",
    "by = 1\n",
    "start = 100\n",
    "# stop = 70000"
   ]
  },
  {
   "cell_type": "markdown",
   "id": "1a0843af-e387-4d3b-930f-41cedbe92325",
   "metadata": {
    "tags": []
   },
   "source": [
    "# Run Specifics"
   ]
  },
  {
   "cell_type": "code",
   "execution_count": null,
   "id": "69774e99-669c-4448-92fe-0f5e826ddccd",
   "metadata": {
    "tags": []
   },
   "outputs": [],
   "source": [
    "runs = [\n",
    "    (\"config2\", 57),\n",
    "    (\"config2\", 58),\n",
    "    (\"config2\", 59),\n",
    "    (\"config2\", 60),\n",
    "    (\"config3\", 25),\n",
    "    (\"config3\", 26),\n",
    "    (\"config3\", 27),\n",
    "    (\"config3\", 28),\n",
    "    ]\n",
    "\n",
    "for (category, run) in runs:\n",
    "    probes_dir = f'{scratch_dir}/CHARLES/{category}/R{run}/probes/probesOut/pointCloud'\n",
    "    oak_probes_dir =  f'{home_dir}/CHARLES/{category}/R{run}/probes/probesOut_parquet/pointCloud'\n",
    "\n",
    "    probes = probePost.Probes(\n",
    "        probes_dir, \n",
    "        probe_type = \"POINTCLOUD_PROBES\", \n",
    "        file_type = \"csv\", \n",
    "        directory_parquet = oak_probes_dir,\n",
    "        )\n",
    "\n",
    "    probes.to_parquet(overwrite=True)\n",
    "\n",
    "    # probes = probePost.Probes(\n",
    "    #     oak_probes_dir, \n",
    "    #     probe_type = \"POINTCLOUD_PROBES\", \n",
    "    #     file_type = \"parquet\", \n",
    "    #     directory_parquet = oak_probes_dir,\n",
    "    # )\n"
   ]
  },
  {
   "cell_type": "code",
   "execution_count": null,
   "id": "9f3c6e59",
   "metadata": {},
   "outputs": [],
   "source": [
    "probes.data[('zwindow_2-0_h_0--1',\n",
    "  119000)].compute()\n"
   ]
  }
 ],
 "metadata": {
  "kernelspec": {
   "display_name": "Python 3 (ipykernel)",
   "language": "python",
   "name": "python3"
  },
  "language_info": {
   "codemirror_mode": {
    "name": "ipython",
    "version": 3
   },
   "file_extension": ".py",
   "mimetype": "text/x-python",
   "name": "python",
   "nbconvert_exporter": "python",
   "pygments_lexer": "ipython3",
   "version": "3.10.12"
  }
 },
 "nbformat": 4,
 "nbformat_minor": 5
}
