{
 "cells": [
  {
   "cell_type": "markdown",
   "metadata": {},
   "source": [
    "# General Setup"
   ]
  },
  {
   "cell_type": "code",
   "execution_count": null,
   "metadata": {
    "notebookRunGroups": {
     "groupValue": "1"
    }
   },
   "outputs": [],
   "source": [
    "%load_ext autoreload\n",
    "%autoreload 2\n",
    "%matplotlib widget\n",
    "%pdb off\n",
    "\n",
    "from pyCascade import probePost, physics, quantities\n",
    "from matplotlib import pyplot as plt\n",
    "import numpy as np\n",
    "import os\n",
    "from scipy.optimize import curve_fit\n",
    "import pandas as pd\n",
    "import matplotlib.colors as mcolors\n",
    "from plotly import express as px\n",
    "\n",
    "plt.rcParams['figure.dpi'] = 140\n",
    "im_scaling = .75\n",
    "plt.rcParams['figure.figsize'] = [6.4 * im_scaling, 4.8 * im_scaling]\n",
    "\n",
    "############ Universal ################\n",
    "scratch_home = os.getenv('SCRATCH') #need to set SCRATCH (even if there is no real SCRATCH) to the location where results are written\n",
    "scratch_dir = f'{scratch_home}/Cascade/city_block_cfd'\n",
    "home_dir = !pwd\n",
    "home_dir = home_dir[0]\n",
    "\n",
    "display(scratch_dir)\n",
    "display(home_dir)\n",
    "plt.close('all')\n",
    "\n"
   ]
  },
  {
   "cell_type": "markdown",
   "metadata": {},
   "source": [
    "# Runs"
   ]
  },
  {
   "cell_type": "code",
   "execution_count": 13,
   "metadata": {},
   "outputs": [],
   "source": [
    "runs = {\n",
    "        253: {'A': 45, 'WS': 2, 'C': 2, 'starts': [40000, 120000, 160000], 'stops': [119000, 159000, 240000], 'delT': [0, 5, 5], 'SS': [True, False, True]},\n",
    "        254: {'A': 45, 'WS': 4, 'C': 2, 'starts': [40000, 120000, 160000], 'stops': [119000, 159000, 240000], 'delT': [0, 5, 5], 'SS': [True, False, True]},\n",
    "        255: {'A': 0,  'WS': 2, 'C': 2, 'starts': [40000, 120000, 160000], 'stops': [119000, 159000, 240000], 'delT': [0, 5, 5], 'SS': [True, False, True]},\n",
    "        256: {'A': 0,  'WS': 4, 'C': 2, 'starts': [40000, 120000, 160000], 'stops': [119000, 159000, 240000], 'delT': [0, 5, 5], 'SS': [True, False, True]},\n",
    "        321: {'A': 45, 'WS': 2, 'C': 3, 'starts': [40000, 120000, 160000], 'stops': [119000, 159000, 240000], 'delT': [0, 5, 5], 'SS': [True, False, True]},\n",
    "        322: {'A': 45, 'WS': 4, 'C': 3, 'starts': [40000, 120000, 160000], 'stops': [119000, 159000, 240000], 'delT': [0, 5, 5], 'SS': [True, False, True]},\n",
    "        323: {'A': 0,  'WS': 2, 'C': 3, 'starts': [40000, 120000, 160000], 'stops': [119000, 159000, 240000], 'delT': [0, 5, 5], 'SS': [True, False, True]},\n",
    "        324: {'A': 0,  'WS': 4, 'C': 3, 'starts': [40000, 120000, 160000], 'stops': [119000, 159000, 240000], 'delT': [0, 5, 5], 'SS': [True, False, True]},\n",
    "\n",
    "        246: {'A': 45, 'WS': 2, 'C': 2, 'starts': [40000, 120000, 160000], 'stops': [119000, 159000, 240000], 'delT': [0, 5, 5], 'SS': [True, False, True]},\n",
    "        247: {'A': 45, 'WS': 4, 'C': 2, 'starts': [40000, 120000, 160000], 'stops': [119000, 159000, 240000], 'delT': [0, 5, 5], 'SS': [True, False, True]},\n",
    "        248: {'A': 0,  'WS': 2, 'C': 2, 'starts': [40000, 120000, 160000], 'stops': [119000, 159000, 240000], 'delT': [0, 5, 5], 'SS': [True, False, True]},\n",
    "        249: {'A': 0,  'WS': 4, 'C': 2, 'starts': [40000, 120000, 160000], 'stops': [119000, 159000, 240000], 'delT': [0, 5, 5], 'SS': [True, False, True]},\n",
    "        316: {'A': 45, 'WS': 2, 'C': 3, 'starts': [40000, 120000, 160000], 'stops': [119000, 159000, 240000], 'delT': [0, 5, 5], 'SS': [True, False, True]},\n",
    "        318: {'A': 45, 'WS': 4, 'C': 3, 'starts': [40000, 120000, 160000], 'stops': [119000, 159000, 240000], 'delT': [0, 5, 5], 'SS': [True, False, True]},\n",
    "        317: {'A': 0,  'WS': 2, 'C': 3, 'starts': [40000, 120000, 160000], 'stops': [119000, 159000, 240000], 'delT': [0, 5, 5], 'SS': [True, False, True]},\n",
    "        319: {'A': 0,  'WS': 4, 'C': 3, 'starts': [40000, 120000, 160000], 'stops': [119000, 159000, 240000], 'delT': [0, 5, 5], 'SS': [True, False, True]},\n",
    "    }\n",
    "\n",
    "plotFolder = f\"{home_dir}/CHARLES/multiPlots/\"\n",
    "\n",
    "qoisOutputed = [\"mag(u)_avg\", \"mag(u)_rms\", \"comp(u_rms,0)\", \"comp(u_rms,1)\", \"comp(u_rms,2)\", \"comp(u_avg,0)\", \"comp(u_avg,1)\", \"comp(u_avg,2)\", \"comp(u_rey,0)\", \"comp(u_rey,1)\", \"comp(u_rey,2)\"]\n"
   ]
  },
  {
   "cell_type": "code",
   "execution_count": null,
   "metadata": {
    "notebookRunGroups": {
     "groupValue": "1"
    }
   },
   "outputs": [],
   "source": [
    "allABLVolStats = {}\n",
    "overWrite = False\n",
    "for run in runs:\n",
    "    C = runs[run]['C']\n",
    "    category = f\"config{C}\"\n",
    "    R = run % 100\n",
    "    probes_dir = f'{scratch_dir}/CHARLES/{category}/R{R}/probes/probesOut'\n",
    "    oak_probes_dir =  f'{home_dir}/CHARLES/{category}/R{R}/probes/probesOut_parquet/'\n",
    "    print(R)\n",
    "    starts = runs[run]['starts']\n",
    "    stops = runs[run]['stops']\n",
    "    delT = runs[run]['starts']\n",
    "    SS = runs[run]['SS']\n",
    "    if len(set([len(starts), len(stops), len(delT), len(SS)])) != 1:\n",
    "        raise Exception(f\"Run {runs} has array properties of different lengths\")\n",
    "\n",
    "    probesLoaded = False\n",
    "    for j, start in enumerate(starts):\n",
    "        stop = stops[j]\n",
    "        ABLVolStatsPath = f\"{oak_probes_dir}/../ABLVolStats-{start}to{stop}.csv\"\n",
    "        paths = [ABLVolStatsPath]\n",
    "        for path in paths:\n",
    "            if os.path.exists(path) == False or overWrite:\n",
    "                print(f\"Creating stats for {run} from step {stop}. Saving to {path}...\")\n",
    "                if probesLoaded == False:\n",
    "                    print(f\"reading probes from {oak_probes_dir}\")\n",
    "                    file_type = \"csv\"\n",
    "                    probes = probePost.Probes(probes_dir, directory_parquet = oak_probes_dir, file_type = file_type, probe_type = \"VOLUMETRIC_PROBES\", flux_quants = qoisOutputed, name_pattern = \"VolProbe\")\n",
    "                    probesLoaded = True\n",
    "                stats = probes.statistics(\n",
    "                    names = probes.probe_names, \n",
    "                    steps = [stop],\n",
    "                    quants = qoisOutputed,\n",
    "                    processing = None,\n",
    "                    parrallel=False\n",
    "                )\n",
    "                display(stats)\n",
    "                stats.to_csv(ABLVolStatsPath)\n",
    "\n",
    "        ABLVolStats = pd.read_csv(ABLVolStatsPath, index_col=0)\n",
    "        for k, v in runs[run].items():\n",
    "            if isinstance(v, list):\n",
    "                ABLVolStats[k] = v[j]\n",
    "            else:\n",
    "                ABLVolStats[k] = v\n",
    "\n",
    "        allABLVolStats[int(10*run + j)] = ABLVolStats\n",
    "            \n"
   ]
  },
  {
   "cell_type": "code",
   "execution_count": 15,
   "metadata": {},
   "outputs": [],
   "source": [
    "def processVolProbeNames(s, pos = None):\n",
    "    # Filter out any characters that are not digits, a decimal point, or a negative sign\n",
    "    filtered = ''.join(c for c in s if c.isdigit() or c == '.' or c == '_')\n",
    "    filtered = filtered.split('_')\n",
    "    \n",
    "    # Convert the filtered string to float\n",
    "    if filtered:\n",
    "        if pos is not None:\n",
    "            return float(filtered[1][pos])\n",
    "        else:\n",
    "            return float(''.join(filtered[0]))"
   ]
  },
  {
   "cell_type": "code",
   "execution_count": 16,
   "metadata": {},
   "outputs": [],
   "source": [
    "ABLFits = pd.DataFrame(columns=[\"uStar\", \"z0\", \"disp\"])\n",
    "for i, (k, stats) in enumerate(allABLVolStats.items()):\n",
    "    # stats = df.copy()\n",
    "    A = stats[\"A\"].iloc[0]\n",
    "    A_rad = A * np.pi / 180\n",
    "    stats[\"lowerBound\"] = stats.index.map(lambda s: processVolProbeNames(s))\n",
    "    stats[\"xPos\"] = stats.index.map(lambda s: processVolProbeNames(s, pos=0))\n",
    "    stats[\"zPos\"] = stats.index.map(lambda s: processVolProbeNames(s, pos=1))\n",
    "    stats.sort_values(by = [\"xPos\", \"zPos\", \"lowerBound\"], inplace=True)\n",
    "\n",
    "    upperBound = stats[\"lowerBound\"].copy()\n",
    "    upperBound = upperBound.shift(-1)\n",
    "\n",
    "    if stats[\"C\"].iloc[0] == 2:\n",
    "        H = 77.3\n",
    "    elif stats[\"C\"].iloc[0] == 3:\n",
    "        H = 116\n",
    "    else:\n",
    "        raise Exception(\"Configuration {category} not an option\")\n",
    "    upperBound.fillna(H, inplace = True)\n",
    "    upperBound[upperBound == min(stats[\"lowerBound\"])] = H\n",
    "    stats[\"upperBound\"] = upperBound\n",
    "    stats.dropna(inplace=True)\n",
    "    stats[\"y\"] = (stats[\"lowerBound\"] + stats[\"upperBound\"]) / 2\n",
    "\n",
    "    stats['It^2'] = (stats['mag(u)_rms'] / stats['mag(u)_avg'])**2\n",
    "\n",
    "    Uprime = stats['comp(u_rms,0)']\n",
    "    Vprime = stats['comp(u_rms,1)']\n",
    "    Wprime = stats['comp(u_rms,2)']\n",
    "    Tau_02 = stats['comp(u_rey,1)']\n",
    "\n",
    "    stats['I0^2'] = ((np.cos(A_rad)*Uprime)**2 + (np.sin(A_rad)*Wprime)**2 + 2*Tau_02*np.sin(A_rad)*np.cos(A_rad)) / stats['comp(u_avg,0)']**2\n",
    "    stats['I1^2'] = (Vprime / stats['comp(u_avg,0)'])**2\n",
    "    stats['I2^2'] = ((np.sin(A_rad)*Uprime)**2 + (np.cos(A_rad)*Wprime)**2 - 2*Tau_02*np.sin(A_rad)*np.cos(A_rad)) / stats['comp(u_avg,0)']**2\n",
    "    stats['U/U10'] = stats[\"mag(u)_avg\"] / stats[\"WS\"]\n",
    "\n",
    "ABLVolStatsMI = pd.concat(allABLVolStats.values(), keys=allABLVolStats.keys())\n",
    "ABLVolStatsMI.index.set_names(['runs', 'probe'], inplace=True)"
   ]
  },
  {
   "cell_type": "markdown",
   "metadata": {},
   "source": [
    "## Run Fits"
   ]
  },
  {
   "cell_type": "code",
   "execution_count": null,
   "metadata": {},
   "outputs": [],
   "source": [
    "ABLVolStatsSSMI = ABLVolStatsMI[ABLVolStatsMI[\"SS\"]==True]\n",
    "ABLGroupedMI = ABLVolStatsSSMI.copy()\n",
    "ABLGroupedMI = ABLGroupedMI[ABLVolStatsMI[\"WS\"]==2]\n",
    "ABLGroupedMI = ABLGroupedMI[ABLVolStatsMI[\"delT\"]==5]\n",
    "ABLGroupedMI = ABLGroupedMI.groupby([\"C\", \"A\", \"y\"]).mean()\n",
    "ABLGroupedMI"
   ]
  },
  {
   "cell_type": "code",
   "execution_count": null,
   "metadata": {},
   "outputs": [],
   "source": [
    "fig, axs = plt.subplots(2, 4, figsize = [6, 2.5], sharex =False, sharey = True)\n",
    "fmts = ['o', 's', '^', 'v', '<', '>', 'D', 'X']\n",
    "colors = list(mcolors.TABLEAU_COLORS)\n",
    "fits = {}\n",
    "for i, (k, df) in enumerate(ABLGroupedMI.groupby(level=[0,1])):\n",
    "    df = df.reset_index()\n",
    "    A = df[\"A\"].iloc[0]\n",
    "    C = df[\"C\"].iloc[0]\n",
    "    WS = 2 #df[\"WS\"].iloc[0]\n",
    "    # delT = df[\"delT\"].iloc[0]\n",
    "    # row = 2*int(C==3)+int(A==45)\n",
    "    row = int(C==3)\n",
    "    ax = axs[row, 0]\n",
    "    qty_vol = quantities.Qty()\n",
    "    qty_vol.meanU = df[\"U/U10\"]\n",
    "    qty_vol.y = df['y'].values\n",
    "    ax, fit = quantities.plot_ABL({f\"{C}-{A}-{WS}\": qty_vol}, fit_disp=True, fitSlice = np.s_[6:], colorOffset=int(A==45), ax=ax, fmt = fmts[int(A==45)], linestyle='-', returnFit=True, markersize=1)\n",
    "    fits[k] = fit\n",
    "    # ax.set_title(f\"{C}-{A}\")\n",
    "    ax.get_legend().remove()\n",
    "    if row != 0:\n",
    "        ax.set_xlabel(\"$U/U_{10}$\")\n",
    "    else:\n",
    "        ax.set_xlabel(\"\")\n",
    "    ax.set_ylabel(\"y [m]\")\n",
    "    ax.set_xlim([0,2])\n",
    "\n",
    "    scales = [1, .88, .55]\n",
    "    symbols = [\"u\", \"v\", \"w\"]\n",
    "    xmax = [2, 2, 1]\n",
    "    for j, comp in enumerate([0, 1, 2]):\n",
    "        scale = scales[j]\n",
    "        ax = axs[row, 1+j]\n",
    "        y = df['y'].values\n",
    "        Iplot = np.sqrt(df[f\"I{comp}^2\"])\n",
    "        ax.plot(Iplot, y, marker=fmts[int(A==45)], color = colors[int(A==45)], markersize=1, linewidth=0, label=f\"{C}-{A}-{WS}\", fillstyle=\"none\")\n",
    "        z0 = fit['z0']\n",
    "        d = fit['disp']\n",
    "        y = y[y>3*z0+d]\n",
    "        ax.plot(scale/np.log((y-d)/z0), y, color = colors[int(A==45)], linestyle='-', linewidth=.5)\n",
    "        ax.legend()\n",
    "        if row ==1:\n",
    "            ax.set_xlabel(f\"$I_{symbols[j]}$\")\n",
    "        ax.get_legend().remove()\n",
    "        ax.set_xlim([0, xmax[j]])\n",
    "\n",
    "plt.tight_layout()\n",
    "pd.DataFrame(fits)"
   ]
  },
  {
   "cell_type": "markdown",
   "metadata": {},
   "source": [
    "## Individual Fits"
   ]
  },
  {
   "cell_type": "code",
   "execution_count": null,
   "metadata": {},
   "outputs": [],
   "source": [
    "fmts = ['x', 'o']\n",
    "styles = ['--', '-']\n",
    "fits = {}\n",
    "plt.close()\n",
    "for i, (k, stats) in enumerate(allABLVolStats.items()):\n",
    "    A = stats[\"A\"].iloc[0]\n",
    "    C = stats[\"C\"].iloc[0]\n",
    "    WS = stats[\"WS\"].iloc[0]\n",
    "    delT = stats[\"delT\"].iloc[0]\n",
    "    name = f\"{k}: {C}-{A}|{WS}-{delT}\"\n",
    "    ax.set_title(name)\n",
    "    theta = stats[\"A\"].iloc[0]\n",
    "    thetaRad = theta / 180 * np.pi\n",
    "    meanU = np.cos(thetaRad) * stats[\"comp(u_avg,0)\"] + np.sin(thetaRad) * stats[\"comp(u_avg,2)\"]\n",
    "    statsMI = stats.set_index([\"xPos\", \"zPos\", \"y\"])\n",
    "    c = 0\n",
    "    fmt = fmts[int(k%2)]\n",
    "    style = styles[int(k%2)]\n",
    "    for xPos, dfx in statsMI.groupby(level=0):\n",
    "        for zPos, df in dfx.groupby(level=1):\n",
    "            qty_vol = quantities.Qty()\n",
    "            # meanU = np.cos(thetaRad) * df[\"comp(u_avg,0)\"] + np.sin(thetaRad) * df[\"comp(u_avg,2)\"]\n",
    "            meanU = df[\"mag(u)_avg\"]\n",
    "            # meanU = np.arctan(df[\"comp(u_avg,2)\"] / df[\"comp(u_avg,0)\"]) * 180 / np.pi\n",
    "            qty_vol.meanU = meanU.iloc[0:18]#[6:27]\n",
    "            qty_vol.y = df.index.get_level_values(2).values[0:18]\n",
    "            if A == 45:\n",
    "                id = int((xPos-zPos)%4)\n",
    "            elif A == 0:\n",
    "                id = int(zPos)\n",
    "            ax, fit = quantities.plot_ABL({f\"{xPos}-{zPos}: {id}\": qty_vol}, fit_disp=True, fitSlice = np.s_[3:], colorOffset=id, ax=ax, fmt = fmt, linestyle=style, returnFit=True)\n",
    "            fit[\"id\"] = id\n",
    "            fit[\"A\"] = A\n",
    "            fit[\"C\"] = C\n",
    "            fit[\"WS\"] = WS\n",
    "            fit[\"delT\"] = delT\n",
    "            fit[\"xPos\"] = xPos\n",
    "            fit[\"zPos\"] = zPos\n",
    "            fits[(k, xPos, zPos)] = fit\n",
    "            c += 1\n",
    "\n",
    "fits = pd.DataFrame(fits).T\n"
   ]
  },
  {
   "cell_type": "code",
   "execution_count": 7,
   "metadata": {},
   "outputs": [],
   "source": [
    "def adjusted_friction_velocity(ustar1, z01, z02):\n",
    "    \"\"\"\n",
    "    Calculate the friction velocity u*,2 over the second surface using the friction velocity u*,1 over the first surface,\n",
    "    and the roughness lengths of both surfaces.\n",
    "    \n",
    "    Parameters:\n",
    "    ustar1 : float\n",
    "        Friction velocity over the first surface (u*,1).\n",
    "    z01 : float\n",
    "        Roughness length of the first surface (z0,1).\n",
    "    z02 : float\n",
    "        Roughness length of the second surface (z0,2).\n",
    "        \n",
    "    Returns:\n",
    "    float\n",
    "        The friction velocity over the second surface (u*,2).\n",
    "    \"\"\"\n",
    "    ustar2 = ustar1 * (z02 / z01) ** 0.07\n",
    "    return ustar2\n",
    "\n",
    "def label_domain_positions(x, z):\n",
    "    domainSplit = 1\n",
    "    if x > domainSplit and z > domainSplit:\n",
    "        return 'B'\n",
    "    elif x > domainSplit and z <= domainSplit:\n",
    "        return 'Bz'\n",
    "    elif x <= domainSplit and z > domainSplit:\n",
    "        return 'Bx'\n",
    "    elif x <= domainSplit and z <= domainSplit:\n",
    "        return 'Bxz'\n",
    "    else:\n",
    "        raise Exception(\"Coordinates not mapped to labels\")"
   ]
  },
  {
   "cell_type": "code",
   "execution_count": 8,
   "metadata": {},
   "outputs": [],
   "source": [
    "fits.index.names = [\"runs\", \"xPosInd\", \"zPosInd\"]\n",
    "fits[\"blockType\"] = fits.apply(lambda row: label_domain_positions(row['xPos'], row['zPos']), axis=1)"
   ]
  },
  {
   "cell_type": "code",
   "execution_count": 9,
   "metadata": {},
   "outputs": [],
   "source": [
    "fits[\"uStarNorm\"] = fits[\"uStar\"] / fits[\"WS\"]"
   ]
  },
  {
   "cell_type": "code",
   "execution_count": null,
   "metadata": {},
   "outputs": [],
   "source": [
    "px.scatter_3d(fits[fits[\"A\"] == 0], \"xPos\", \"zPos\", \"uStarNorm\", color = \"C\")"
   ]
  },
  {
   "cell_type": "code",
   "execution_count": null,
   "metadata": {},
   "outputs": [],
   "source": [
    "hm = 6\n",
    "z_0 = 0.061*hm\n",
    "display(fit, z_0)\n",
    "fits[\"uStar_2\"]= adjusted_friction_velocity(fits[\"uStar\"], fits[\"z0\"], z_0)\n",
    "fits[\"z0_2\"] = z_0\n",
    "fits[\"u10_2\"] = physics.loglaw_with_disp(np.array([10]), fits[\"uStar_2\"], z_0, 0)\n",
    "fits[\"uScaling\"] = fits[\"u10_2\"] / fits[\"WS\"]\n",
    "px.scatter_3d(fits[fits[\"A\"] == 0], \"xPos\", \"zPos\", \"uScaling\", color = \"C\")"
   ]
  },
  {
   "cell_type": "code",
   "execution_count": null,
   "metadata": {},
   "outputs": [],
   "source": [
    "px.scatter_3d(fits[fits[\"A\"] == 0], \"xPos\", \"zPos\", \"z0\", color = \"C\")"
   ]
  },
  {
   "cell_type": "code",
   "execution_count": null,
   "metadata": {},
   "outputs": [],
   "source": [
    "px.scatter_3d(fits[fits[\"A\"] == 45], \"xPos\", \"zPos\", \"uScaling\", color = \"C\")"
   ]
  },
  {
   "cell_type": "code",
   "execution_count": null,
   "metadata": {},
   "outputs": [],
   "source": [
    "px.scatter_3d(fits[fits[\"A\"] == 45], \"xPos\", \"zPos\", \"z0\", color = \"C\")"
   ]
  },
  {
   "cell_type": "code",
   "execution_count": null,
   "metadata": {},
   "outputs": [],
   "source": [
    "blockFits = fits.groupby(['runs', 'blockType'], as_index=True).mean()\n",
    "px.scatter_3d(blockFits[blockFits[\"A\"] == 0], \"xPos\", \"zPos\", \"uScaling\", color = \"C\")"
   ]
  },
  {
   "cell_type": "code",
   "execution_count": null,
   "metadata": {},
   "outputs": [],
   "source": [
    "px.scatter_3d(blockFits[blockFits[\"A\"] == 0], \"xPos\", \"zPos\", \"z0\", color = \"C\")"
   ]
  },
  {
   "cell_type": "code",
   "execution_count": null,
   "metadata": {},
   "outputs": [],
   "source": [
    "px.scatter_3d(blockFits[blockFits[\"A\"] == 45], \"xPos\", \"zPos\", \"uScaling\", color = \"C\")"
   ]
  },
  {
   "cell_type": "code",
   "execution_count": null,
   "metadata": {},
   "outputs": [],
   "source": [
    "px.scatter_3d(blockFits[blockFits[\"A\"] == 45], \"xPos\", \"zPos\", \"z0\", color = \"C\")"
   ]
  },
  {
   "cell_type": "code",
   "execution_count": null,
   "metadata": {},
   "outputs": [],
   "source": [
    "px.scatter(fits.reset_index(), \"blockType\", \"uScaling\", color = \"A\", symbol=\"C\")"
   ]
  },
  {
   "cell_type": "code",
   "execution_count": 20,
   "metadata": {},
   "outputs": [],
   "source": [
    "fits.to_csv(f\"{home_dir}/CHARLES/multiRuns/fitsABL.csv\")\n",
    "blockFits.to_csv(f\"{home_dir}/CHARLES/multiRuns/blockFitsABL.csv\")\n",
    "ABLVolStatsMI.to_csv(f\"{home_dir}/CHARLES/multiRuns/ABLVolStatsMI.csv\")"
   ]
  }
 ],
 "metadata": {
  "kernelspec": {
   "display_name": "Python 3 (ipykernel)",
   "language": "python",
   "name": "python3"
  },
  "language_info": {
   "codemirror_mode": {
    "name": "ipython",
    "version": 3
   },
   "file_extension": ".py",
   "mimetype": "text/x-python",
   "name": "python",
   "nbconvert_exporter": "python",
   "pygments_lexer": "ipython3",
   "version": "3.10.12"
  },
  "vscode": {
   "interpreter": {
    "hash": "5dc2b2b94b1158b6af3901a9e6679750eb5cf147475682c227b35169ceede5f6"
   }
  }
 },
 "nbformat": 4,
 "nbformat_minor": 4
}
